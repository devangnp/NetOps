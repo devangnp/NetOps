{
 "cells": [
  {
   "cell_type": "code",
   "execution_count": 1,
   "metadata": {},
   "outputs": [],
   "source": [
    "from netmiko import ConnectHandler\n",
    "from pprint import pprint"
   ]
  },
  {
   "cell_type": "code",
   "execution_count": 16,
   "metadata": {},
   "outputs": [],
   "source": [
    "juniper_mx1 = {\n",
    "    'device_type': 'juniper_junos',\n",
    "    'host': '10.85.162.147',\n",
    "    'username': 'labroot',\n",
    "    'password': 'lab123',\n",
    "}\n",
    "\n",
    "juniper_ptx1={\n",
    "    'device_type': 'juniper_junos',\n",
    "    'host': '10.85.162.140',\n",
    "    'username': 'labroot',\n",
    "    'password': 'lab123',\n",
    "}"
   ]
  },
  {
   "cell_type": "code",
   "execution_count": 17,
   "metadata": {},
   "outputs": [],
   "source": [
    "mydevices = [juniper_mx1, juniper_ptx1]"
   ]
  },
  {
   "cell_type": "code",
   "execution_count": 18,
   "metadata": {},
   "outputs": [
    {
     "name": "stdout",
     "output_type": "stream",
     "text": [
      "set interfaces lo0 description netmiko_config_change_test1\n",
      "set firewall family inet filter netmiko_test1 term 1 then accept \n"
     ]
    }
   ],
   "source": [
    "!cat config.txt"
   ]
  },
  {
   "cell_type": "code",
   "execution_count": 23,
   "metadata": {},
   "outputs": [
    {
     "name": "stdout",
     "output_type": "stream",
     "text": [
      "['set interfaces lo0 description netmiko_config_change_test1', 'set firewall family inet filter netmiko_test1 term 1 then accept ']\n"
     ]
    }
   ],
   "source": [
    "with open('config.txt') as fh:\n",
    "    lines = fh.read().splitlines()\n",
    "\n",
    "print(lines)"
   ]
  },
  {
   "cell_type": "code",
   "execution_count": 25,
   "metadata": {},
   "outputs": [
    {
     "name": "stdout",
     "output_type": "stream",
     "text": [
      "('configure \\n'\n",
      " 'Entering configuration mode\\n'\n",
      " '\\n'\n",
      " '[edit]\\n'\n",
      " 'labroot@lisbon-re0# set interfaces lo0 description '\n",
      " 'netmiko_config_change_test1 \\n'\n",
      " '\\n'\n",
      " '[edit]\\n'\n",
      " 'labroot@lisbon-re0# set firewall family inet filter netmiko_test1 term 1 '\n",
      " 'then accept \\n'\n",
      " '\\n'\n",
      " '[edit]\\n'\n",
      " 'labroot@lisbon-re0# exit configuration-mode \\n'\n",
      " 'The configuration has been changed but not committed\\n'\n",
      " 'Exiting configuration mode\\n'\n",
      " '\\n'\n",
      " 'labroot@lisbon-re0> ')\n",
      "('configure \\n'\n",
      " 'Entering configuration mode\\n'\n",
      " '\\n'\n",
      " '[edit]\\n'\n",
      " 'labroot@g08-41# set interfaces lo0 description netmiko_config_change_test1 \\n'\n",
      " '\\n'\n",
      " '[edit]\\n'\n",
      " 'labroot@g08-41# set firewall family inet filter netmiko_test1 term 1 then '\n",
      " 'accept \\n'\n",
      " '\\n'\n",
      " '[edit]\\n'\n",
      " 'labroot@g08-41# exit configuration-mode \\n'\n",
      " 'The configuration has been changed but not committed\\n'\n",
      " 'Exiting configuration mode\\n'\n",
      " '\\n'\n",
      " 'labroot@g08-41> ')\n"
     ]
    }
   ],
   "source": [
    "for device in mydevices:\n",
    "    rtr = ConnectHandler(**device)\n",
    "    output = rtr.send_config_set(lines)\n",
    "    pprint(output)\n"
   ]
  },
  {
   "cell_type": "code",
   "execution_count": 26,
   "metadata": {},
   "outputs": [
    {
     "data": {
      "text/plain": [
       "'exit configuration-mode \\nExiting configuration mode\\n\\nlabroot@g08-41> '"
      ]
     },
     "execution_count": 26,
     "metadata": {},
     "output_type": "execute_result"
    }
   ],
   "source": [
    "rtr.commit()\n",
    "rtr.exit_config_mode()"
   ]
  },
  {
   "cell_type": "code",
   "execution_count": 27,
   "metadata": {},
   "outputs": [],
   "source": [
    "showcmd = ['show configuration interfaces lo0 | display set | match description','show firewal', 'show configuration firewall family inet | match netmiko | display set']"
   ]
  },
  {
   "cell_type": "code",
   "execution_count": 33,
   "metadata": {},
   "outputs": [
    {
     "name": "stdout",
     "output_type": "stream",
     "text": [
      "'\\nset interfaces lo0 description netmiko_config_change_test1\\n'\n",
      "(' \\n'\n",
      " '\\n'\n",
      " 'Filter: test-ae2.112-i                                         \\n'\n",
      " 'Counters:\\n'\n",
      " 'Name                                                Bytes              '\n",
      " 'Packets\\n'\n",
      " 'all_pkt-ae2.112-i                                 1469100                '\n",
      " '24485\\n'\n",
      " '\\n'\n",
      " 'Filter: testlo0                                                \\n'\n",
      " 'Counters:\\n'\n",
      " 'Name                                                Bytes              '\n",
      " 'Packets\\n'\n",
      " 'all_lo                                            1469100                '\n",
      " '24485\\n'\n",
      " '\\n'\n",
      " 'Filter: netmiko_test1                                          \\n')\n",
      "'\\nset firewall family inet filter netmiko_test1 term 1 then accept\\n'\n"
     ]
    }
   ],
   "source": [
    "for cmd in showcmd:\n",
    "    output = rtr.send_command(cmd)\n",
    "    pprint(output)"
   ]
  }
 ],
 "metadata": {
  "kernelspec": {
   "display_name": "Python 3",
   "language": "python",
   "name": "python3"
  },
  "language_info": {
   "codemirror_mode": {
    "name": "ipython",
    "version": 3
   },
   "file_extension": ".py",
   "mimetype": "text/x-python",
   "name": "python",
   "nbconvert_exporter": "python",
   "pygments_lexer": "ipython3",
   "version": "3.8.1"
  }
 },
 "nbformat": 4,
 "nbformat_minor": 4
}
