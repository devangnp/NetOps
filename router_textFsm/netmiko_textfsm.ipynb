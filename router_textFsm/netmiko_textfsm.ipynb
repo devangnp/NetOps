{
 "cells": [
  {
   "cell_type": "code",
   "execution_count": 36,
   "metadata": {},
   "outputs": [],
   "source": [
    "from netmiko import ConnectHandler\n",
    "from pprint import pprint"
   ]
  },
  {
   "cell_type": "code",
   "execution_count": 2,
   "metadata": {},
   "outputs": [
    {
     "data": {
      "text/plain": [
       "'2.4.2'"
      ]
     },
     "execution_count": 2,
     "metadata": {},
     "output_type": "execute_result"
    }
   ],
   "source": [
    "netmiko.__version__"
   ]
  },
  {
   "cell_type": "code",
   "execution_count": 45,
   "metadata": {},
   "outputs": [],
   "source": [
    "juniper_mx1 = {\n",
    "    'device_type': 'juniper_junos',\n",
    "    'host': '10.85.162.147',\n",
    "    'username': 'labroot',\n",
    "    'password': 'lab123',\n",
    "}\n",
    "\n",
    "juniper_ptx1={\n",
    "    'device_type': 'juniper_junos',\n",
    "    'host': '10.85.162.140',\n",
    "    'username': 'labroot',\n",
    "    'password': 'lab123',\n",
    "}"
   ]
  },
  {
   "cell_type": "code",
   "execution_count": 49,
   "metadata": {},
   "outputs": [],
   "source": [
    "mydevices = [juniper_mx1, juniper_ptx1]"
   ]
  },
  {
   "cell_type": "code",
   "execution_count": 51,
   "metadata": {},
   "outputs": [
    {
     "name": "stdout",
     "output_type": "stream",
     "text": [
      "[{'address': '2.2.12.1',\n",
      "  'dead_time': '36',\n",
      "  'interface': 'ae2.0',\n",
      "  'neighbor_id': '192.168.1.2',\n",
      "  'priority': '128',\n",
      "  'state': 'Full'},\n",
      " {'address': '135.1.1.2',\n",
      "  'dead_time': '31',\n",
      "  'interface': 'ae2.1000',\n",
      "  'neighbor_id': '2.2.2.2',\n",
      "  'priority': '128',\n",
      "  'state': 'Full'},\n",
      " {'address': '1.1.13.2',\n",
      "  'dead_time': '31',\n",
      "  'interface': 'xe-0/1/0.0',\n",
      "  'neighbor_id': '192.168.1.3',\n",
      "  'priority': '128',\n",
      "  'state': 'Full'}]\n",
      "[{'address': '10.100.1.1',\n",
      "  'dead_time': '31',\n",
      "  'interface': 'ae0.0',\n",
      "  'neighbor_id': '1.1.1.1',\n",
      "  'priority': '128',\n",
      "  'state': 'Full'},\n",
      " {'address': '135.1.1.1',\n",
      "  'dead_time': '38',\n",
      "  'interface': 'ae2.1000',\n",
      "  'neighbor_id': '192.168.1.1',\n",
      "  'priority': '128',\n",
      "  'state': 'Full'},\n",
      " {'address': '10.100.5.2',\n",
      "  'dead_time': '33',\n",
      "  'interface': 'et-0/0/1:3.0',\n",
      "  'neighbor_id': '3.3.3.3',\n",
      "  'priority': '128',\n",
      "  'state': 'Full'}]\n"
     ]
    }
   ],
   "source": [
    "for device in mydevices:\n",
    "    r1 = ConnectHandler(**device)\n",
    "    output = r1.send_command('show ospf neighbor', use_textfsm=True)\n",
    "    pprint(output)\n"
   ]
  },
  {
   "cell_type": "code",
   "execution_count": null,
   "metadata": {},
   "outputs": [],
   "source": [
    "r1."
   ]
  }
 ],
 "metadata": {
  "kernelspec": {
   "display_name": "Python 3",
   "language": "python",
   "name": "python3"
  },
  "language_info": {
   "codemirror_mode": {
    "name": "ipython",
    "version": 3
   },
   "file_extension": ".py",
   "mimetype": "text/x-python",
   "name": "python",
   "nbconvert_exporter": "python",
   "pygments_lexer": "ipython3",
   "version": "3.8.1"
  }
 },
 "nbformat": 4,
 "nbformat_minor": 4
}
