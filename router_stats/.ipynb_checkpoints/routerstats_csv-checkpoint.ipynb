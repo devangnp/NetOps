{
 "cells": [
  {
   "cell_type": "markdown",
   "metadata": {},
   "source": [
    "NetOps\n",
    "\n",
    "Network devices and interfaces traffic stats analysis\n",
    "\n",
    "Devang Patel"
   ]
  },
  {
   "cell_type": "markdown",
   "metadata": {},
   "source": [
    "# Using CSV moduel\n",
    "CSV DictReader returns the Dictionary, each row is converted to list of dict, key as column header and value in specific cell\n"
   ]
  },
  {
   "cell_type": "code",
   "execution_count": 2,
   "metadata": {},
   "outputs": [],
   "source": [
    "import csv\n",
    "import re\n",
    "import operator"
   ]
  },
  {
   "cell_type": "code",
   "execution_count": 2,
   "metadata": {},
   "outputs": [
    {
     "name": "stdout",
     "output_type": "stream",
     "text": [
      "{'device': 'r3', 'intf': 'et3', 'input': '303', 'output': '313'}\n",
      "{'device': 'r3', 'intf': 'et2', 'input': '302', 'output': '312'}\n",
      "{'device': 'r3', 'intf': 'et1', 'input': '300', 'output': 'error'}\n",
      "{'device': 'r2', 'intf': 'et3', 'input': '203', 'output': '213'}\n",
      "{'device': 'r2', 'intf': 'et2', 'input': '202', 'output': '212'}\n"
     ]
    }
   ],
   "source": [
    "with open('stats.csv','r') as fh:\n",
    "    csv_reader = csv.DictReader(fh)   \n",
    "    '''\n",
    "    Sorting value based on key defined using lambda func\n",
    "    column name from csv file used as key in lambda func\n",
    "    '''\n",
    "    reader = sorted(csv_reader, key = lambda d: (d['input']), reverse=True)\n",
    "    \n",
    "    #To Print top talker, here it will print 5 top talkers in input\n",
    "    for device in reader[:5]:\n",
    "        print(device)\n",
    "    "
   ]
  },
  {
   "cell_type": "code",
   "execution_count": 20,
   "metadata": {},
   "outputs": [
    {
     "name": "stdout",
     "output_type": "stream",
     "text": [
      "{'device': 'r3', 'intf': 'et1', 'input': '300', 'output': 0}\n",
      "{'device': 'r3', 'intf': 'et2', 'input': '302', 'output': '312'}\n",
      "{'device': 'r3', 'intf': 'et3', 'input': '303', 'output': '313'}\n",
      "{'device': 'r2', 'intf': 'et1', 'input': '200', 'output': '210'}\n",
      "{'device': 'r2', 'intf': 'et2', 'input': '202', 'output': '212'}\n",
      "{'device': 'r2', 'intf': 'et3', 'input': '203', 'output': '213'}\n",
      "{'device': 'r1', 'intf': 'et1', 'input': 0, 'output': '110'}\n",
      "{'device': 'r1', 'intf': 'et2', 'input': '102', 'output': '112'}\n",
      "{'device': 'r1', 'intf': 'et3', 'input': '103', 'output': '113'}\n"
     ]
    }
   ],
   "source": [
    "with open('stats.csv','r') as fh:\n",
    "    csv_reader = csv.DictReader(fh)\n",
    "        \n",
    "    '''\n",
    "    Sorting value based on key defined using operator module\n",
    "    itemgetter\n",
    "    '''\n",
    "    reader = sorted(csv_reader, key = operator.itemgetter('device'), reverse=True)\n",
    "    '''\n",
    "    To Print top talker:\n",
    "    here it will print 5 top talkers in input\n",
    "    '''\n",
    "    for device in reader:\n",
    "        if not device['output'].isnumeric():\n",
    "            device['output'] = 0\n",
    "            \n",
    "        if not device['input'].isnumeric():\n",
    "            device['input'] = 0\n",
    "            \n",
    "    for device in reader:\n",
    "        print(device)"
   ]
  },
  {
   "cell_type": "code",
   "execution_count": 23,
   "metadata": {},
   "outputs": [
    {
     "name": "stdout",
     "output_type": "stream",
     "text": [
      "{'device': 'r2', 'intf': 'et1', 'input': '200', 'output': '210'}\n",
      "{'device': 'r2', 'intf': 'et2', 'input': '202', 'output': '212'}\n",
      "{'device': 'r2', 'intf': 'et3', 'input': '203', 'output': '213'}\n",
      "R2 total input: 605 total output: 635 and total traffic on device is: 1240\n"
     ]
    }
   ],
   "source": [
    "'''\n",
    "csv Dictreader\n",
    "Only printing r2 data and caculating its \n",
    "total input and output and total traffic on box\n",
    "'''\n",
    "with open('stats.csv','r') as fh:\n",
    "    csv_reader = csv.DictReader(fh)\n",
    "    #print(csv_reader)\n",
    "    total_input = 0\n",
    "    total_output = 0\n",
    "    \n",
    "    for line in csv_reader:\n",
    "        #print(line)\n",
    "        if 'r2' in line.values():\n",
    "            print(line)\n",
    "            total_input = total_input + int(line['input'])\n",
    "            total_output = total_output + int(line['output'])\n",
    "    print(f'R2 total input: {total_input} total output: {total_output} and total traffic on device is: {total_input+total_output}')"
   ]
  },
  {
   "cell_type": "markdown",
   "metadata": {},
   "source": [
    "CSV reader returns the list, each row is converted to list and list members are the element of each column of that specific row."
   ]
  },
  {
   "cell_type": "code",
   "execution_count": 5,
   "metadata": {},
   "outputs": [
    {
     "name": "stdout",
     "output_type": "stream",
     "text": [
      "['r1', 'et1', '100', '110']\n",
      "['r1', 'et2', '102', '112']\n",
      "['r1', 'et3', '103', '113']\n"
     ]
    }
   ],
   "source": [
    "'''\n",
    "Using csv reader\n",
    "Only printing r1 data\n",
    "'''\n",
    "with open('stats.csv','r') as fh:\n",
    "    csv_reader = csv.reader(fh)\n",
    "    for line in csv_reader:\n",
    "        #print(line)\n",
    "        if 'r1' in line:\n",
    "            print(line)"
   ]
  },
  {
   "cell_type": "code",
   "execution_count": 6,
   "metadata": {},
   "outputs": [],
   "source": [
    "with open('policer.txt', 'r') as fh:\n",
    "    with open('policer.csv','w') as csvfh:\n",
    "        for line in fh:\n",
    "            #print(line, end = '')\n",
    "            line = re.sub('^\\s+|\\s+$','', line)\n",
    "            line = re.sub('\\s+',',', line)\n",
    "            csvfh.write(line+'\\n')\n"
   ]
  },
  {
   "cell_type": "code",
   "execution_count": 7,
   "metadata": {},
   "outputs": [
    {
     "name": "stdout",
     "output_type": "stream",
     "text": [
      "24 24 24\n",
      "arp-ae10.10-i \n",
      " \t diff between 1st and 2nd capture: 37 \n",
      "\t diff between 1st and 2nd capture: 31\n",
      "arp-ae11.10-i \n",
      " \t diff between 1st and 2nd capture: 39 \n",
      "\t diff between 1st and 2nd capture: 37\n",
      "arp-ae12.10-i \n",
      " \t diff between 1st and 2nd capture: 27 \n",
      "\t diff between 1st and 2nd capture: 27\n",
      "arp-ae13.10-i \n",
      " \t diff between 1st and 2nd capture: 32 \n",
      "\t diff between 1st and 2nd capture: 28\n",
      "arp-ae14.10-i \n",
      " \t diff between 1st and 2nd capture: 26 \n",
      "\t diff between 1st and 2nd capture: 19\n",
      "arp-ae15.10-i \n",
      " \t diff between 1st and 2nd capture: 33 \n",
      "\t diff between 1st and 2nd capture: 17\n",
      "arp-ae16.10-i \n",
      " \t diff between 1st and 2nd capture: 35 \n",
      "\t diff between 1st and 2nd capture: 13\n",
      "arp-ae17.10-i \n",
      " \t diff between 1st and 2nd capture: 42 \n",
      "\t diff between 1st and 2nd capture: 28\n",
      "arp-ae18.10-i \n",
      " \t diff between 1st and 2nd capture: 32 \n",
      "\t diff between 1st and 2nd capture: 11\n",
      "arp-ae19.10-i \n",
      " \t diff between 1st and 2nd capture: 0 \n",
      "\t diff between 1st and 2nd capture: 0\n",
      "arp-ae20.10-i \n",
      " \t diff between 1st and 2nd capture: 31 \n",
      "\t diff between 1st and 2nd capture: 10\n",
      "arp-ae21.10-i \n",
      " \t diff between 1st and 2nd capture: 0 \n",
      "\t diff between 1st and 2nd capture: 0\n",
      "arp-ae22.10-i \n",
      " \t diff between 1st and 2nd capture: 39 \n",
      "\t diff between 1st and 2nd capture: 25\n",
      "arp-ae23.10-i \n",
      " \t diff between 1st and 2nd capture: 38 \n",
      "\t diff between 1st and 2nd capture: 21\n",
      "arp-ae24.10-i \n",
      " \t diff between 1st and 2nd capture: 43 \n",
      "\t diff between 1st and 2nd capture: 24\n",
      "arp-ae25.10-i \n",
      " \t diff between 1st and 2nd capture: 0 \n",
      "\t diff between 1st and 2nd capture: 0\n",
      "arp-ae26.10-i \n",
      " \t diff between 1st and 2nd capture: 40 \n",
      "\t diff between 1st and 2nd capture: 25\n",
      "arp-ae27.10-i \n",
      " \t diff between 1st and 2nd capture: 0 \n",
      "\t diff between 1st and 2nd capture: 0\n",
      "arp-ae28.10-i \n",
      " \t diff between 1st and 2nd capture: 31 \n",
      "\t diff between 1st and 2nd capture: 16\n",
      "arp-ae29.10-i \n",
      " \t diff between 1st and 2nd capture: 34 \n",
      "\t diff between 1st and 2nd capture: 20\n",
      "arp-ae30.10-i \n",
      " \t diff between 1st and 2nd capture: 32 \n",
      "\t diff between 1st and 2nd capture: 16\n",
      "arp-ae31.10-i \n",
      " \t diff between 1st and 2nd capture: 47 \n",
      "\t diff between 1st and 2nd capture: 37\n",
      "arp-ae32.10-i \n",
      " \t diff between 1st and 2nd capture: 0 \n",
      "\t diff between 1st and 2nd capture: 0\n",
      "arp-ae33.10-i \n",
      " \t diff between 1st and 2nd capture: 42 \n",
      "\t diff between 1st and 2nd capture: 31\n",
      "arp-ae34.10-i \n",
      " \t diff between 1st and 2nd capture: 36 \n",
      "\t diff between 1st and 2nd capture: 11\n",
      "arp-ae35.10-i \n",
      " \t diff between 1st and 2nd capture: 34 \n",
      "\t diff between 1st and 2nd capture: 30\n",
      "arp-ae36.10-i \n",
      " \t diff between 1st and 2nd capture: 22 \n",
      "\t diff between 1st and 2nd capture: 21\n",
      "arp-ae37.10-i \n",
      " \t diff between 1st and 2nd capture: 36 \n",
      "\t diff between 1st and 2nd capture: 18\n",
      "arp-ae38.10-i \n",
      " \t diff between 1st and 2nd capture: 34 \n",
      "\t diff between 1st and 2nd capture: 22\n",
      "arp-ae39.10-i \n",
      " \t diff between 1st and 2nd capture: 0 \n",
      "\t diff between 1st and 2nd capture: 0\n",
      "arp-ae40.10-i \n",
      " \t diff between 1st and 2nd capture: 0 \n",
      "\t diff between 1st and 2nd capture: 0\n",
      "arp-ae41.10-i \n",
      " \t diff between 1st and 2nd capture: 0 \n",
      "\t diff between 1st and 2nd capture: 0\n",
      "arp-ae42.10-i \n",
      " \t diff between 1st and 2nd capture: 0 \n",
      "\t diff between 1st and 2nd capture: 0\n",
      "arp-ae43.10-i \n",
      " \t diff between 1st and 2nd capture: 0 \n",
      "\t diff between 1st and 2nd capture: 0\n",
      "arp-ae8.10-i \n",
      " \t diff between 1st and 2nd capture: 34 \n",
      "\t diff between 1st and 2nd capture: 20\n",
      "arp-ae9.10-i \n",
      " \t diff between 1st and 2nd capture: 34 \n",
      "\t diff between 1st and 2nd capture: 29\n"
     ]
    }
   ],
   "source": [
    "with open('policer.csv','r') as fh:\n",
    "    csv_reader = csv.DictReader(fh)\n",
    "    capture1 = {}\n",
    "    capture2 = {}\n",
    "    capture3 = {}\n",
    "    for line in csv_reader:\n",
    "        #print(line)\n",
    "        if line['Name'] not in capture1:\n",
    "            capture1[line['Name']] = line['Packets']\n",
    "            continue\n",
    "        \n",
    "        if line['Name'] in capture1 and line['Name'] not in capture2:\n",
    "            capture2[line['Name']] = line['Packets']\n",
    "            continue\n",
    "            \n",
    "        if line['Name'] in capture1 and line['Name'] in capture2 and line['Name'] not in capture3:\n",
    "            capture3[line['Name']] = line['Packets']\n",
    "            \n",
    "    print(capture1['arp-ae39.10-i'], capture2['arp-ae39.10-i'], capture3['arp-ae39.10-i'])\n",
    "    \n",
    "    key_lst = capture1.keys()\n",
    "    for key in key_lst:\n",
    "        print(key, '\\n', '\\t diff between 1st and 2nd capture:', \n",
    "              int(capture2[key]) - int(capture1[key]) , \n",
    "              '\\n' '\\t diff between 3rd and 2nd capture:', \n",
    "              int(capture3[key]) - int(capture2[key]) )"
   ]
  }
 ],
 "metadata": {
  "kernelspec": {
   "display_name": "Python 3",
   "language": "python",
   "name": "python3"
  },
  "language_info": {
   "codemirror_mode": {
    "name": "ipython",
    "version": 3
   },
   "file_extension": ".py",
   "mimetype": "text/x-python",
   "name": "python",
   "nbconvert_exporter": "python",
   "pygments_lexer": "ipython3",
   "version": "3.8.1"
  }
 },
 "nbformat": 4,
 "nbformat_minor": 4
}
