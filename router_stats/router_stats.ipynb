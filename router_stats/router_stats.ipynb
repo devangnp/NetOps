{
 "cells": [
  {
   "cell_type": "markdown",
   "metadata": {},
   "source": [
    "\n",
    "NetOps\n",
    "\n",
    "Network devices and interfaces traffic stats analysis\n",
    "\n",
    "Devang Patel\n"
   ]
  },
  {
   "cell_type": "code",
   "execution_count": 149,
   "metadata": {},
   "outputs": [],
   "source": [
    "import csv\n",
    "import pandas as pd\n",
    "import operator"
   ]
  },
  {
   "cell_type": "markdown",
   "metadata": {},
   "source": [
    "# Using CSV moduel"
   ]
  },
  {
   "cell_type": "markdown",
   "metadata": {},
   "source": [
    "CSV DictReader returns the Dictionary, each row is converted to list of dict, key as column header and value in specific cell\n"
   ]
  },
  {
   "cell_type": "code",
   "execution_count": 199,
   "metadata": {},
   "outputs": [
    {
     "name": "stdout",
     "output_type": "stream",
     "text": [
      "OrderedDict([('device', 'r3'), ('intf', 'et3'), ('input', '303'), ('output', '313')])\n",
      "OrderedDict([('device', 'r3'), ('intf', 'et2'), ('input', '302'), ('output', '312')])\n",
      "OrderedDict([('device', 'r3'), ('intf', 'et1'), ('input', '300'), ('output', 'error')])\n",
      "OrderedDict([('device', 'r2'), ('intf', 'et3'), ('input', '203'), ('output', '213')])\n",
      "OrderedDict([('device', 'r2'), ('intf', 'et2'), ('input', '202'), ('output', '212')])\n"
     ]
    }
   ],
   "source": [
    "with open('stats.csv','r') as fh:\n",
    "    csv_reader = csv.DictReader(fh)   \n",
    "    '''\n",
    "    Sorting value based on key defined using lambda func\n",
    "    column name from csv file used as key in lambda func\n",
    "    '''\n",
    "    reader = sorted(csv_reader, key = lambda d: (d['input']), reverse=True)\n",
    "    \n",
    "    #To Print top talker, here it will print 5 top talkers in input\n",
    "    for device in reader[:5]:\n",
    "        print(device)\n",
    "    \n"
   ]
  },
  {
   "cell_type": "code",
   "execution_count": 151,
   "metadata": {},
   "outputs": [
    {
     "name": "stdout",
     "output_type": "stream",
     "text": [
      "OrderedDict([('device', 'r3'), ('intf', 'et1'), ('input', '300'), ('output', 'error')])\n",
      "OrderedDict([('device', 'r3'), ('intf', 'et2'), ('input', '302'), ('output', '312')])\n",
      "OrderedDict([('device', 'r3'), ('intf', 'et3'), ('input', '303'), ('output', '313')])\n",
      "OrderedDict([('device', 'r2'), ('intf', 'et1'), ('input', '200'), ('output', '210')])\n",
      "OrderedDict([('device', 'r2'), ('intf', 'et2'), ('input', '202'), ('output', '212')])\n"
     ]
    }
   ],
   "source": [
    "with open('stats.csv','r') as fh:\n",
    "    csv_reader = csv.DictReader(fh)\n",
    "        \n",
    "    '''\n",
    "    Sorting value based on key defined using operator module\n",
    "    itemgetter\n",
    "    '''\n",
    "    reader = sorted(csv_reader, key = operator.itemgetter('device'), reverse=True)\n",
    "    \n",
    "    '''\n",
    "    To Print top talker:\n",
    "    here it will print 5 top talkers in input\n",
    "    '''\n",
    "    for device in reader[:5]:\n",
    "        print(device)\n",
    "    "
   ]
  },
  {
   "cell_type": "code",
   "execution_count": 154,
   "metadata": {},
   "outputs": [
    {
     "name": "stdout",
     "output_type": "stream",
     "text": [
      "OrderedDict([('device', 'r1'), ('intf', 'et1'), ('input', '100'), ('output', '110')])\n",
      "OrderedDict([('device', 'r1'), ('intf', 'et2'), ('input', '102'), ('output', '112')])\n",
      "OrderedDict([('device', 'r1'), ('intf', 'et3'), ('input', '103'), ('output', '113')])\n"
     ]
    }
   ],
   "source": [
    "'''\n",
    "csv Dictreader\n",
    "Only printing r1 data\n",
    "'''\n",
    "with open('stats.csv','r') as fh:\n",
    "    csv_reader = csv.DictReader(fh)\n",
    "    #print(csv_reader)\n",
    "\n",
    "    for line in csv_reader:\n",
    "        #print(line)\n",
    "        if 'r1' in line.values():\n",
    "            print(line)\n",
    "            "
   ]
  },
  {
   "cell_type": "markdown",
   "metadata": {},
   "source": [
    "CSV reader returns the list, each row is converted to list and list members are the element of each column of that specific row."
   ]
  },
  {
   "cell_type": "code",
   "execution_count": 200,
   "metadata": {},
   "outputs": [
    {
     "name": "stdout",
     "output_type": "stream",
     "text": [
      "['r1', 'et1', '100', '110']\n",
      "['r1', 'et2', '102', '112']\n",
      "['r1', 'et3', '103', '113']\n"
     ]
    }
   ],
   "source": [
    "'''\n",
    "Using csv reader\n",
    "Only printing r1 data\n",
    "'''\n",
    "with open('stats.csv','r') as fh:\n",
    "    csv_reader = csv.reader(fh)\n",
    "    for line in csv_reader:\n",
    "        #print(line)\n",
    "        if 'r1' in line:\n",
    "            print(line)"
   ]
  },
  {
   "cell_type": "markdown",
   "metadata": {},
   "source": [
    "# Using Pandas"
   ]
  },
  {
   "cell_type": "code",
   "execution_count": 201,
   "metadata": {},
   "outputs": [
    {
     "data": {
      "text/plain": [
       "<bound method NDFrame.head of   device intf  input output\n",
       "0     r1  et1    100    110\n",
       "1     r1  et2    102    112\n",
       "2     r1  et3    103    113\n",
       "3     r2  et1    200    210\n",
       "4     r2  et2    202    212\n",
       "5     r2  et3    203    213\n",
       "6     r3  et1    300  error\n",
       "7     r3  et2    302    312\n",
       "8     r3  et3    303    313>"
      ]
     },
     "execution_count": 201,
     "metadata": {},
     "output_type": "execute_result"
    }
   ],
   "source": [
    "'''\n",
    "Read CSV file into data frame\n",
    "'''\n",
    "data = pd.read_csv('stats.csv')\n",
    "data.head"
   ]
  },
  {
   "cell_type": "code",
   "execution_count": 176,
   "metadata": {},
   "outputs": [
    {
     "data": {
      "text/plain": [
       "device    object\n",
       "intf      object\n",
       "input      int64\n",
       "output    object\n",
       "dtype: object"
      ]
     },
     "execution_count": 176,
     "metadata": {},
     "output_type": "execute_result"
    }
   ],
   "source": [
    "data.dtypes"
   ]
  },
  {
   "cell_type": "code",
   "execution_count": 177,
   "metadata": {},
   "outputs": [
    {
     "name": "stdout",
     "output_type": "stream",
     "text": [
      "  device intf\n",
      "0     r1  et1\n",
      "1     r1  et2\n",
      "2     r1  et3\n",
      "3     r2  et1\n",
      "4     r2  et2\n",
      "5     r2  et3\n",
      "6     r3  et1\n",
      "7     r3  et2\n",
      "8     r3  et3\n"
     ]
    }
   ],
   "source": [
    "'''\n",
    "Print all rows of specific column\n",
    "'''\n",
    "print(data[['device','intf']])"
   ]
  },
  {
   "cell_type": "code",
   "execution_count": 178,
   "metadata": {},
   "outputs": [
    {
     "data": {
      "text/html": [
       "<div>\n",
       "<style scoped>\n",
       "    .dataframe tbody tr th:only-of-type {\n",
       "        vertical-align: middle;\n",
       "    }\n",
       "\n",
       "    .dataframe tbody tr th {\n",
       "        vertical-align: top;\n",
       "    }\n",
       "\n",
       "    .dataframe thead th {\n",
       "        text-align: right;\n",
       "    }\n",
       "</style>\n",
       "<table border=\"1\" class=\"dataframe\">\n",
       "  <thead>\n",
       "    <tr style=\"text-align: right;\">\n",
       "      <th></th>\n",
       "      <th>device</th>\n",
       "      <th>intf</th>\n",
       "      <th>input</th>\n",
       "      <th>output</th>\n",
       "    </tr>\n",
       "  </thead>\n",
       "  <tbody>\n",
       "    <tr>\n",
       "      <th>0</th>\n",
       "      <td>r1</td>\n",
       "      <td>et1</td>\n",
       "      <td>100</td>\n",
       "      <td>110</td>\n",
       "    </tr>\n",
       "    <tr>\n",
       "      <th>1</th>\n",
       "      <td>r1</td>\n",
       "      <td>et2</td>\n",
       "      <td>102</td>\n",
       "      <td>112</td>\n",
       "    </tr>\n",
       "    <tr>\n",
       "      <th>2</th>\n",
       "      <td>r1</td>\n",
       "      <td>et3</td>\n",
       "      <td>103</td>\n",
       "      <td>113</td>\n",
       "    </tr>\n",
       "  </tbody>\n",
       "</table>\n",
       "</div>"
      ],
      "text/plain": [
       "  device intf  input output\n",
       "0     r1  et1    100    110\n",
       "1     r1  et2    102    112\n",
       "2     r1  et3    103    113"
      ]
     },
     "execution_count": 178,
     "metadata": {},
     "output_type": "execute_result"
    }
   ],
   "source": [
    "'''\n",
    "Print all rows which has r1\n",
    "'''\n",
    "data[data['device'].str.match('r1')]"
   ]
  },
  {
   "cell_type": "code",
   "execution_count": 179,
   "metadata": {},
   "outputs": [
    {
     "data": {
      "text/html": [
       "<div>\n",
       "<style scoped>\n",
       "    .dataframe tbody tr th:only-of-type {\n",
       "        vertical-align: middle;\n",
       "    }\n",
       "\n",
       "    .dataframe tbody tr th {\n",
       "        vertical-align: top;\n",
       "    }\n",
       "\n",
       "    .dataframe thead th {\n",
       "        text-align: right;\n",
       "    }\n",
       "</style>\n",
       "<table border=\"1\" class=\"dataframe\">\n",
       "  <thead>\n",
       "    <tr style=\"text-align: right;\">\n",
       "      <th></th>\n",
       "      <th>device</th>\n",
       "      <th>intf</th>\n",
       "      <th>input</th>\n",
       "      <th>output</th>\n",
       "    </tr>\n",
       "  </thead>\n",
       "  <tbody>\n",
       "    <tr>\n",
       "      <th>0</th>\n",
       "      <td>r1</td>\n",
       "      <td>et1</td>\n",
       "      <td>100</td>\n",
       "      <td>110</td>\n",
       "    </tr>\n",
       "    <tr>\n",
       "      <th>1</th>\n",
       "      <td>r1</td>\n",
       "      <td>et2</td>\n",
       "      <td>102</td>\n",
       "      <td>112</td>\n",
       "    </tr>\n",
       "    <tr>\n",
       "      <th>2</th>\n",
       "      <td>r1</td>\n",
       "      <td>et3</td>\n",
       "      <td>103</td>\n",
       "      <td>113</td>\n",
       "    </tr>\n",
       "    <tr>\n",
       "      <th>3</th>\n",
       "      <td>r2</td>\n",
       "      <td>et1</td>\n",
       "      <td>200</td>\n",
       "      <td>210</td>\n",
       "    </tr>\n",
       "    <tr>\n",
       "      <th>4</th>\n",
       "      <td>r2</td>\n",
       "      <td>et2</td>\n",
       "      <td>202</td>\n",
       "      <td>212</td>\n",
       "    </tr>\n",
       "    <tr>\n",
       "      <th>5</th>\n",
       "      <td>r2</td>\n",
       "      <td>et3</td>\n",
       "      <td>203</td>\n",
       "      <td>213</td>\n",
       "    </tr>\n",
       "    <tr>\n",
       "      <th>6</th>\n",
       "      <td>r3</td>\n",
       "      <td>et1</td>\n",
       "      <td>300</td>\n",
       "      <td>error</td>\n",
       "    </tr>\n",
       "    <tr>\n",
       "      <th>7</th>\n",
       "      <td>r3</td>\n",
       "      <td>et2</td>\n",
       "      <td>302</td>\n",
       "      <td>312</td>\n",
       "    </tr>\n",
       "    <tr>\n",
       "      <th>8</th>\n",
       "      <td>r3</td>\n",
       "      <td>et3</td>\n",
       "      <td>303</td>\n",
       "      <td>313</td>\n",
       "    </tr>\n",
       "  </tbody>\n",
       "</table>\n",
       "</div>"
      ],
      "text/plain": [
       "  device intf  input output\n",
       "0     r1  et1    100    110\n",
       "1     r1  et2    102    112\n",
       "2     r1  et3    103    113\n",
       "3     r2  et1    200    210\n",
       "4     r2  et2    202    212\n",
       "5     r2  et3    203    213\n",
       "6     r3  et1    300  error\n",
       "7     r3  et2    302    312\n",
       "8     r3  et3    303    313"
      ]
     },
     "execution_count": 179,
     "metadata": {},
     "output_type": "execute_result"
    }
   ],
   "source": [
    "data"
   ]
  },
  {
   "cell_type": "code",
   "execution_count": 180,
   "metadata": {},
   "outputs": [
    {
     "data": {
      "text/html": [
       "<div>\n",
       "<style scoped>\n",
       "    .dataframe tbody tr th:only-of-type {\n",
       "        vertical-align: middle;\n",
       "    }\n",
       "\n",
       "    .dataframe tbody tr th {\n",
       "        vertical-align: top;\n",
       "    }\n",
       "\n",
       "    .dataframe thead th {\n",
       "        text-align: right;\n",
       "    }\n",
       "</style>\n",
       "<table border=\"1\" class=\"dataframe\">\n",
       "  <thead>\n",
       "    <tr style=\"text-align: right;\">\n",
       "      <th></th>\n",
       "      <th>device</th>\n",
       "      <th>intf</th>\n",
       "      <th>input</th>\n",
       "      <th>output</th>\n",
       "    </tr>\n",
       "  </thead>\n",
       "  <tbody>\n",
       "    <tr>\n",
       "      <th>0</th>\n",
       "      <td>r1</td>\n",
       "      <td>et1</td>\n",
       "      <td>100</td>\n",
       "      <td>110</td>\n",
       "    </tr>\n",
       "    <tr>\n",
       "      <th>1</th>\n",
       "      <td>r1</td>\n",
       "      <td>et2</td>\n",
       "      <td>102</td>\n",
       "      <td>112</td>\n",
       "    </tr>\n",
       "    <tr>\n",
       "      <th>2</th>\n",
       "      <td>r1</td>\n",
       "      <td>et3</td>\n",
       "      <td>103</td>\n",
       "      <td>113</td>\n",
       "    </tr>\n",
       "    <tr>\n",
       "      <th>3</th>\n",
       "      <td>r2</td>\n",
       "      <td>et1</td>\n",
       "      <td>200</td>\n",
       "      <td>210</td>\n",
       "    </tr>\n",
       "    <tr>\n",
       "      <th>4</th>\n",
       "      <td>r2</td>\n",
       "      <td>et2</td>\n",
       "      <td>202</td>\n",
       "      <td>212</td>\n",
       "    </tr>\n",
       "    <tr>\n",
       "      <th>5</th>\n",
       "      <td>r2</td>\n",
       "      <td>et3</td>\n",
       "      <td>203</td>\n",
       "      <td>213</td>\n",
       "    </tr>\n",
       "    <tr>\n",
       "      <th>6</th>\n",
       "      <td>r3</td>\n",
       "      <td>et1</td>\n",
       "      <td>300</td>\n",
       "      <td>error</td>\n",
       "    </tr>\n",
       "    <tr>\n",
       "      <th>7</th>\n",
       "      <td>r3</td>\n",
       "      <td>et2</td>\n",
       "      <td>302</td>\n",
       "      <td>312</td>\n",
       "    </tr>\n",
       "    <tr>\n",
       "      <th>8</th>\n",
       "      <td>r3</td>\n",
       "      <td>et3</td>\n",
       "      <td>303</td>\n",
       "      <td>313</td>\n",
       "    </tr>\n",
       "  </tbody>\n",
       "</table>\n",
       "</div>"
      ],
      "text/plain": [
       "  device intf  input output\n",
       "0     r1  et1    100    110\n",
       "1     r1  et2    102    112\n",
       "2     r1  et3    103    113\n",
       "3     r2  et1    200    210\n",
       "4     r2  et2    202    212\n",
       "5     r2  et3    203    213\n",
       "6     r3  et1    300  error\n",
       "7     r3  et2    302    312\n",
       "8     r3  et3    303    313"
      ]
     },
     "execution_count": 180,
     "metadata": {},
     "output_type": "execute_result"
    }
   ],
   "source": [
    "'''\n",
    "Copy data frame to another one\n",
    "'''\n",
    "data1 = data\n",
    "data1"
   ]
  },
  {
   "cell_type": "code",
   "execution_count": 181,
   "metadata": {},
   "outputs": [
    {
     "data": {
      "text/plain": [
       "device    object\n",
       "intf      object\n",
       "input      int64\n",
       "output    object\n",
       "dtype: object"
      ]
     },
     "execution_count": 181,
     "metadata": {},
     "output_type": "execute_result"
    }
   ],
   "source": [
    "'''\n",
    "How to check type of data in each column\n",
    "'''\n",
    "\n",
    "data1.dtypes"
   ]
  },
  {
   "cell_type": "code",
   "execution_count": 182,
   "metadata": {},
   "outputs": [],
   "source": [
    "'''\n",
    "As we can see r3's eth1 interface output value has 'error'\n",
    "so how to replace 'error' string and converting whole ouptut \n",
    "column to int type? using replace:\n",
    "'''\n",
    "data1['output'] = data1['output'].replace(['error'],0)"
   ]
  },
  {
   "cell_type": "code",
   "execution_count": 183,
   "metadata": {},
   "outputs": [
    {
     "data": {
      "text/html": [
       "<div>\n",
       "<style scoped>\n",
       "    .dataframe tbody tr th:only-of-type {\n",
       "        vertical-align: middle;\n",
       "    }\n",
       "\n",
       "    .dataframe tbody tr th {\n",
       "        vertical-align: top;\n",
       "    }\n",
       "\n",
       "    .dataframe thead th {\n",
       "        text-align: right;\n",
       "    }\n",
       "</style>\n",
       "<table border=\"1\" class=\"dataframe\">\n",
       "  <thead>\n",
       "    <tr style=\"text-align: right;\">\n",
       "      <th></th>\n",
       "      <th>device</th>\n",
       "      <th>intf</th>\n",
       "      <th>input</th>\n",
       "      <th>output</th>\n",
       "    </tr>\n",
       "  </thead>\n",
       "  <tbody>\n",
       "    <tr>\n",
       "      <th>0</th>\n",
       "      <td>r1</td>\n",
       "      <td>et1</td>\n",
       "      <td>100</td>\n",
       "      <td>110</td>\n",
       "    </tr>\n",
       "    <tr>\n",
       "      <th>1</th>\n",
       "      <td>r1</td>\n",
       "      <td>et2</td>\n",
       "      <td>102</td>\n",
       "      <td>112</td>\n",
       "    </tr>\n",
       "    <tr>\n",
       "      <th>2</th>\n",
       "      <td>r1</td>\n",
       "      <td>et3</td>\n",
       "      <td>103</td>\n",
       "      <td>113</td>\n",
       "    </tr>\n",
       "    <tr>\n",
       "      <th>3</th>\n",
       "      <td>r2</td>\n",
       "      <td>et1</td>\n",
       "      <td>200</td>\n",
       "      <td>210</td>\n",
       "    </tr>\n",
       "    <tr>\n",
       "      <th>4</th>\n",
       "      <td>r2</td>\n",
       "      <td>et2</td>\n",
       "      <td>202</td>\n",
       "      <td>212</td>\n",
       "    </tr>\n",
       "    <tr>\n",
       "      <th>5</th>\n",
       "      <td>r2</td>\n",
       "      <td>et3</td>\n",
       "      <td>203</td>\n",
       "      <td>213</td>\n",
       "    </tr>\n",
       "    <tr>\n",
       "      <th>6</th>\n",
       "      <td>r3</td>\n",
       "      <td>et1</td>\n",
       "      <td>300</td>\n",
       "      <td>0</td>\n",
       "    </tr>\n",
       "    <tr>\n",
       "      <th>7</th>\n",
       "      <td>r3</td>\n",
       "      <td>et2</td>\n",
       "      <td>302</td>\n",
       "      <td>312</td>\n",
       "    </tr>\n",
       "    <tr>\n",
       "      <th>8</th>\n",
       "      <td>r3</td>\n",
       "      <td>et3</td>\n",
       "      <td>303</td>\n",
       "      <td>313</td>\n",
       "    </tr>\n",
       "  </tbody>\n",
       "</table>\n",
       "</div>"
      ],
      "text/plain": [
       "  device intf  input output\n",
       "0     r1  et1    100    110\n",
       "1     r1  et2    102    112\n",
       "2     r1  et3    103    113\n",
       "3     r2  et1    200    210\n",
       "4     r2  et2    202    212\n",
       "5     r2  et3    203    213\n",
       "6     r3  et1    300      0\n",
       "7     r3  et2    302    312\n",
       "8     r3  et3    303    313"
      ]
     },
     "execution_count": 183,
     "metadata": {},
     "output_type": "execute_result"
    }
   ],
   "source": [
    "data1"
   ]
  },
  {
   "cell_type": "code",
   "execution_count": 185,
   "metadata": {},
   "outputs": [
    {
     "data": {
      "text/plain": [
       "device    object\n",
       "intf      object\n",
       "input      int64\n",
       "output    object\n",
       "dtype: object"
      ]
     },
     "execution_count": 185,
     "metadata": {},
     "output_type": "execute_result"
    }
   ],
   "source": [
    "'''\n",
    "Next I want to add input and output columns.\n",
    "However, you can see the type of both columns is different\n",
    "due to that we can not perform sum of both columns.\n",
    "'''\n",
    "data1.dtypes"
   ]
  },
  {
   "cell_type": "code",
   "execution_count": 186,
   "metadata": {},
   "outputs": [],
   "source": [
    "'''\n",
    "How to convert output column to int?\n",
    "Using astype:\n",
    "'''\n",
    "data1['output'] = data1['output'].astype(int)"
   ]
  },
  {
   "cell_type": "code",
   "execution_count": 194,
   "metadata": {},
   "outputs": [
    {
     "data": {
      "text/plain": [
       "device    object\n",
       "intf      object\n",
       "input      int64\n",
       "output     int64\n",
       "total      int64\n",
       "dtype: object"
      ]
     },
     "execution_count": 194,
     "metadata": {},
     "output_type": "execute_result"
    }
   ],
   "source": [
    "'''\n",
    "Data type is same for input and output column\n",
    "'''\n",
    "data1.dtypes"
   ]
  },
  {
   "cell_type": "code",
   "execution_count": 195,
   "metadata": {},
   "outputs": [],
   "source": [
    "'''\n",
    "Total of each interface input and output stats\n",
    "'''\n",
    "\n",
    "data1['total'] = data1['input'] + data1['output']"
   ]
  },
  {
   "cell_type": "code",
   "execution_count": 196,
   "metadata": {},
   "outputs": [
    {
     "data": {
      "text/html": [
       "<div>\n",
       "<style scoped>\n",
       "    .dataframe tbody tr th:only-of-type {\n",
       "        vertical-align: middle;\n",
       "    }\n",
       "\n",
       "    .dataframe tbody tr th {\n",
       "        vertical-align: top;\n",
       "    }\n",
       "\n",
       "    .dataframe thead th {\n",
       "        text-align: right;\n",
       "    }\n",
       "</style>\n",
       "<table border=\"1\" class=\"dataframe\">\n",
       "  <thead>\n",
       "    <tr style=\"text-align: right;\">\n",
       "      <th></th>\n",
       "      <th>device</th>\n",
       "      <th>intf</th>\n",
       "      <th>input</th>\n",
       "      <th>output</th>\n",
       "      <th>total</th>\n",
       "    </tr>\n",
       "  </thead>\n",
       "  <tbody>\n",
       "    <tr>\n",
       "      <th>0</th>\n",
       "      <td>r1</td>\n",
       "      <td>et1</td>\n",
       "      <td>100</td>\n",
       "      <td>110</td>\n",
       "      <td>210</td>\n",
       "    </tr>\n",
       "    <tr>\n",
       "      <th>1</th>\n",
       "      <td>r1</td>\n",
       "      <td>et2</td>\n",
       "      <td>102</td>\n",
       "      <td>112</td>\n",
       "      <td>214</td>\n",
       "    </tr>\n",
       "    <tr>\n",
       "      <th>2</th>\n",
       "      <td>r1</td>\n",
       "      <td>et3</td>\n",
       "      <td>103</td>\n",
       "      <td>113</td>\n",
       "      <td>216</td>\n",
       "    </tr>\n",
       "    <tr>\n",
       "      <th>3</th>\n",
       "      <td>r2</td>\n",
       "      <td>et1</td>\n",
       "      <td>200</td>\n",
       "      <td>210</td>\n",
       "      <td>410</td>\n",
       "    </tr>\n",
       "    <tr>\n",
       "      <th>4</th>\n",
       "      <td>r2</td>\n",
       "      <td>et2</td>\n",
       "      <td>202</td>\n",
       "      <td>212</td>\n",
       "      <td>414</td>\n",
       "    </tr>\n",
       "    <tr>\n",
       "      <th>5</th>\n",
       "      <td>r2</td>\n",
       "      <td>et3</td>\n",
       "      <td>203</td>\n",
       "      <td>213</td>\n",
       "      <td>416</td>\n",
       "    </tr>\n",
       "    <tr>\n",
       "      <th>6</th>\n",
       "      <td>r3</td>\n",
       "      <td>et1</td>\n",
       "      <td>300</td>\n",
       "      <td>0</td>\n",
       "      <td>300</td>\n",
       "    </tr>\n",
       "    <tr>\n",
       "      <th>7</th>\n",
       "      <td>r3</td>\n",
       "      <td>et2</td>\n",
       "      <td>302</td>\n",
       "      <td>312</td>\n",
       "      <td>614</td>\n",
       "    </tr>\n",
       "    <tr>\n",
       "      <th>8</th>\n",
       "      <td>r3</td>\n",
       "      <td>et3</td>\n",
       "      <td>303</td>\n",
       "      <td>313</td>\n",
       "      <td>616</td>\n",
       "    </tr>\n",
       "  </tbody>\n",
       "</table>\n",
       "</div>"
      ],
      "text/plain": [
       "  device intf  input  output  total\n",
       "0     r1  et1    100     110    210\n",
       "1     r1  et2    102     112    214\n",
       "2     r1  et3    103     113    216\n",
       "3     r2  et1    200     210    410\n",
       "4     r2  et2    202     212    414\n",
       "5     r2  et3    203     213    416\n",
       "6     r3  et1    300       0    300\n",
       "7     r3  et2    302     312    614\n",
       "8     r3  et3    303     313    616"
      ]
     },
     "execution_count": 196,
     "metadata": {},
     "output_type": "execute_result"
    }
   ],
   "source": [
    "data1"
   ]
  },
  {
   "cell_type": "code",
   "execution_count": 197,
   "metadata": {},
   "outputs": [
    {
     "data": {
      "text/html": [
       "<div>\n",
       "<style scoped>\n",
       "    .dataframe tbody tr th:only-of-type {\n",
       "        vertical-align: middle;\n",
       "    }\n",
       "\n",
       "    .dataframe tbody tr th {\n",
       "        vertical-align: top;\n",
       "    }\n",
       "\n",
       "    .dataframe thead th {\n",
       "        text-align: right;\n",
       "    }\n",
       "</style>\n",
       "<table border=\"1\" class=\"dataframe\">\n",
       "  <thead>\n",
       "    <tr style=\"text-align: right;\">\n",
       "      <th></th>\n",
       "      <th>device</th>\n",
       "      <th>intf</th>\n",
       "      <th>input</th>\n",
       "      <th>output</th>\n",
       "      <th>total</th>\n",
       "    </tr>\n",
       "  </thead>\n",
       "  <tbody>\n",
       "    <tr>\n",
       "      <th>8</th>\n",
       "      <td>r3</td>\n",
       "      <td>et3</td>\n",
       "      <td>303</td>\n",
       "      <td>313</td>\n",
       "      <td>616</td>\n",
       "    </tr>\n",
       "    <tr>\n",
       "      <th>7</th>\n",
       "      <td>r3</td>\n",
       "      <td>et2</td>\n",
       "      <td>302</td>\n",
       "      <td>312</td>\n",
       "      <td>614</td>\n",
       "    </tr>\n",
       "    <tr>\n",
       "      <th>5</th>\n",
       "      <td>r2</td>\n",
       "      <td>et3</td>\n",
       "      <td>203</td>\n",
       "      <td>213</td>\n",
       "      <td>416</td>\n",
       "    </tr>\n",
       "  </tbody>\n",
       "</table>\n",
       "</div>"
      ],
      "text/plain": [
       "  device intf  input  output  total\n",
       "8     r3  et3    303     313    616\n",
       "7     r3  et2    302     312    614\n",
       "5     r2  et3    203     213    416"
      ]
     },
     "execution_count": 197,
     "metadata": {},
     "output_type": "execute_result"
    }
   ],
   "source": [
    "'''\n",
    "which interfaces are in top 3 talker?\n",
    "Using sort:\n",
    "'''\n",
    "data1.sort_values('total', ascending=False).head(3)"
   ]
  },
  {
   "cell_type": "code",
   "execution_count": 198,
   "metadata": {},
   "outputs": [
    {
     "data": {
      "text/html": [
       "<div>\n",
       "<style scoped>\n",
       "    .dataframe tbody tr th:only-of-type {\n",
       "        vertical-align: middle;\n",
       "    }\n",
       "\n",
       "    .dataframe tbody tr th {\n",
       "        vertical-align: top;\n",
       "    }\n",
       "\n",
       "    .dataframe thead th {\n",
       "        text-align: right;\n",
       "    }\n",
       "</style>\n",
       "<table border=\"1\" class=\"dataframe\">\n",
       "  <thead>\n",
       "    <tr style=\"text-align: right;\">\n",
       "      <th></th>\n",
       "      <th>input</th>\n",
       "      <th>output</th>\n",
       "      <th>total</th>\n",
       "    </tr>\n",
       "    <tr>\n",
       "      <th>device</th>\n",
       "      <th></th>\n",
       "      <th></th>\n",
       "      <th></th>\n",
       "    </tr>\n",
       "  </thead>\n",
       "  <tbody>\n",
       "    <tr>\n",
       "      <th>r3</th>\n",
       "      <td>905</td>\n",
       "      <td>625</td>\n",
       "      <td>1530</td>\n",
       "    </tr>\n",
       "    <tr>\n",
       "      <th>r2</th>\n",
       "      <td>605</td>\n",
       "      <td>635</td>\n",
       "      <td>1240</td>\n",
       "    </tr>\n",
       "    <tr>\n",
       "      <th>r1</th>\n",
       "      <td>305</td>\n",
       "      <td>335</td>\n",
       "      <td>640</td>\n",
       "    </tr>\n",
       "  </tbody>\n",
       "</table>\n",
       "</div>"
      ],
      "text/plain": [
       "        input  output  total\n",
       "device                      \n",
       "r3        905     625   1530\n",
       "r2        605     635   1240\n",
       "r1        305     335    640"
      ]
     },
     "execution_count": 198,
     "metadata": {},
     "output_type": "execute_result"
    }
   ],
   "source": [
    "'''\n",
    "How to calculate the total input and total output\n",
    "of specific device all interfaces?\n",
    "Group by device name:\n",
    "'''\n",
    "\n",
    "df = data1.groupby('device').sum().sort_values('total', ascending = False)\n",
    "df"
   ]
  }
 ],
 "metadata": {
  "kernelspec": {
   "display_name": "Python 3",
   "language": "python",
   "name": "python3"
  },
  "language_info": {
   "codemirror_mode": {
    "name": "ipython",
    "version": 3
   },
   "file_extension": ".py",
   "mimetype": "text/x-python",
   "name": "python",
   "nbconvert_exporter": "python",
   "pygments_lexer": "ipython3",
   "version": "3.7.2"
  }
 },
 "nbformat": 4,
 "nbformat_minor": 2
}
