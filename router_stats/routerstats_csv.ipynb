{
 "cells": [
  {
   "cell_type": "markdown",
   "metadata": {},
   "source": [
    "NetOps\n",
    "\n",
    "Network devices and interfaces traffic stats analysis\n",
    "\n",
    "Devang Patel"
   ]
  },
  {
   "cell_type": "markdown",
   "metadata": {},
   "source": [
    "# Using CSV moduel\n",
    "CSV DictReader returns the Dictionary, each row is converted to list of dict, key as column header and value in specific cell\n"
   ]
  },
  {
   "cell_type": "code",
   "execution_count": 1,
   "metadata": {},
   "outputs": [],
   "source": [
    "import csv\n",
    "import operator"
   ]
  },
  {
   "cell_type": "code",
   "execution_count": 2,
   "metadata": {},
   "outputs": [
    {
     "name": "stdout",
     "output_type": "stream",
     "text": [
      "{'device': 'r3', 'output': '313', 'intf': 'et3', 'input': '303'}\n",
      "{'device': 'r3', 'output': '312', 'intf': 'et2', 'input': '302'}\n",
      "{'device': 'r3', 'output': 'error', 'intf': 'et1', 'input': '300'}\n",
      "{'device': 'r2', 'output': '213', 'intf': 'et3', 'input': '203'}\n",
      "{'device': 'r2', 'output': '212', 'intf': 'et2', 'input': '202'}\n"
     ]
    }
   ],
   "source": [
    "with open('stats.csv','r') as fh:\n",
    "    csv_reader = csv.DictReader(fh)   \n",
    "    '''\n",
    "    Sorting value based on key defined using lambda func\n",
    "    column name from csv file used as key in lambda func\n",
    "    '''\n",
    "    reader = sorted(csv_reader, key = lambda d: (d['input']), reverse=True)\n",
    "    \n",
    "    #To Print top talker, here it will print 5 top talkers in input\n",
    "    for device in reader[:5]:\n",
    "        print(device)\n",
    "    "
   ]
  },
  {
   "cell_type": "code",
   "execution_count": 3,
   "metadata": {},
   "outputs": [
    {
     "name": "stdout",
     "output_type": "stream",
     "text": [
      "{'device': 'r3', 'output': 'error', 'intf': 'et1', 'input': '300'}\n",
      "{'device': 'r3', 'output': '312', 'intf': 'et2', 'input': '302'}\n",
      "{'device': 'r3', 'output': '313', 'intf': 'et3', 'input': '303'}\n",
      "{'device': 'r2', 'output': '210', 'intf': 'et1', 'input': '200'}\n",
      "{'device': 'r2', 'output': '212', 'intf': 'et2', 'input': '202'}\n"
     ]
    }
   ],
   "source": [
    "with open('stats.csv','r') as fh:\n",
    "    csv_reader = csv.DictReader(fh)\n",
    "        \n",
    "    '''\n",
    "    Sorting value based on key defined using operator module\n",
    "    itemgetter\n",
    "    '''\n",
    "    reader = sorted(csv_reader, key = operator.itemgetter('device'), reverse=True)\n",
    "    \n",
    "    '''\n",
    "    To Print top talker:\n",
    "    here it will print 5 top talkers in input\n",
    "    '''\n",
    "    for device in reader[:5]:\n",
    "        print(device)"
   ]
  },
  {
   "cell_type": "code",
   "execution_count": 4,
   "metadata": {},
   "outputs": [
    {
     "name": "stdout",
     "output_type": "stream",
     "text": [
      "{'device': 'r1', 'output': '110', 'intf': 'et1', 'input': '100'}\n",
      "{'device': 'r1', 'output': '112', 'intf': 'et2', 'input': '102'}\n",
      "{'device': 'r1', 'output': '113', 'intf': 'et3', 'input': '103'}\n"
     ]
    }
   ],
   "source": [
    "'''\n",
    "csv Dictreader\n",
    "Only printing r1 data\n",
    "'''\n",
    "with open('stats.csv','r') as fh:\n",
    "    csv_reader = csv.DictReader(fh)\n",
    "    #print(csv_reader)\n",
    "\n",
    "    for line in csv_reader:\n",
    "        #print(line)\n",
    "        if 'r1' in line.values():\n",
    "            print(line)\n",
    "            "
   ]
  },
  {
   "cell_type": "markdown",
   "metadata": {},
   "source": [
    "CSV reader returns the list, each row is converted to list and list members are the element of each column of that specific row."
   ]
  },
  {
   "cell_type": "code",
   "execution_count": 5,
   "metadata": {},
   "outputs": [
    {
     "name": "stdout",
     "output_type": "stream",
     "text": [
      "['r1', 'et1', '100', '110']\n",
      "['r1', 'et2', '102', '112']\n",
      "['r1', 'et3', '103', '113']\n"
     ]
    }
   ],
   "source": [
    "'''\n",
    "Using csv reader\n",
    "Only printing r1 data\n",
    "'''\n",
    "with open('stats.csv','r') as fh:\n",
    "    csv_reader = csv.reader(fh)\n",
    "    for line in csv_reader:\n",
    "        #print(line)\n",
    "        if 'r1' in line:\n",
    "            print(line)"
   ]
  }
 ],
 "metadata": {
  "kernelspec": {
   "display_name": "Python 3",
   "language": "python",
   "name": "python3"
  },
  "language_info": {
   "codemirror_mode": {
    "name": "ipython",
    "version": 3
   },
   "file_extension": ".py",
   "mimetype": "text/x-python",
   "name": "python",
   "nbconvert_exporter": "python",
   "pygments_lexer": "ipython3",
   "version": "3.5.2"
  }
 },
 "nbformat": 4,
 "nbformat_minor": 4
}
