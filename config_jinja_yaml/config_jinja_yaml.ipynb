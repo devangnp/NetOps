{
 "cells": [
  {
   "cell_type": "code",
   "execution_count": 6,
   "metadata": {},
   "outputs": [
    {
     "data": {
      "text/plain": [
       "'\\nNetOps\\nRouter config generator using Jinja and YAML templates\\nDevang Patel\\n'"
      ]
     },
     "execution_count": 6,
     "metadata": {},
     "output_type": "execute_result"
    }
   ],
   "source": [
    "'''\n",
    "NetOps\n",
    "Router config generator using Jinja and YAML templates\n",
    "Devang Patel\n",
    "'''"
   ]
  },
  {
   "cell_type": "code",
   "execution_count": 1,
   "metadata": {},
   "outputs": [],
   "source": [
    "from jinja2 import Template, Environment, FileSystemLoader\n",
    "import yaml"
   ]
  },
  {
   "cell_type": "code",
   "execution_count": 7,
   "metadata": {},
   "outputs": [
    {
     "name": "stdout",
     "output_type": "stream",
     "text": [
      "{'intfs': ['ge-0/0/0', 'ge-0/0/1', 'ge-0/0/2'], 'vlan': {'vlan_id': 13}}\n"
     ]
    }
   ],
   "source": [
    "#Reading YAML file which has config parameters and \n",
    "#loading it as python dict\n",
    "s = open('intf_para.yaml').read()\n",
    "config_para = yaml.load(s, yaml.FullLoader)\n",
    "print(config_para)"
   ]
  },
  {
   "cell_type": "code",
   "execution_count": 8,
   "metadata": {},
   "outputs": [],
   "source": [
    "#Loading JINJA environment and configuration template\n",
    "env = Environment(loader=FileSystemLoader('.'),trim_blocks=True, lstrip_blocks=True)\n",
    "template = env.get_template('intf_cfg.j2')\n",
    "final_config = template.render(config_para)"
   ]
  },
  {
   "cell_type": "code",
   "execution_count": 4,
   "metadata": {},
   "outputs": [
    {
     "name": "stdout",
     "output_type": "stream",
     "text": [
      "\n",
      "set interfaces ge-0/0/0 unit 0 vlan-id 13\n",
      "set interfaces ge-0/0/1 unit 0 vlan-id 13\n",
      "set interfaces ge-0/0/2 unit 0 vlan-id 13\n"
     ]
    }
   ],
   "source": [
    "print(template.render(config_para))"
   ]
  },
  {
   "cell_type": "code",
   "execution_count": 5,
   "metadata": {},
   "outputs": [
    {
     "name": "stdout",
     "output_type": "stream",
     "text": [
      "\n",
      "set interfaces ge-0/0/0 unit 0 vlan-id 13\n",
      "set interfaces ge-0/0/1 unit 0 vlan-id 13\n",
      "set interfaces ge-0/0/2 unit 0 vlan-id 13\n"
     ]
    }
   ],
   "source": [
    "print(final_config)"
   ]
  }
 ],
 "metadata": {
  "kernelspec": {
   "display_name": "Python 3",
   "language": "python",
   "name": "python3"
  },
  "language_info": {
   "codemirror_mode": {
    "name": "ipython",
    "version": 3
   },
   "file_extension": ".py",
   "mimetype": "text/x-python",
   "name": "python",
   "nbconvert_exporter": "python",
   "pygments_lexer": "ipython3",
   "version": "3.5.2"
  }
 },
 "nbformat": 4,
 "nbformat_minor": 4
}
