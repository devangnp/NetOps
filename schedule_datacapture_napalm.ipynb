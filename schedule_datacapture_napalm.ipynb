{
 "cells": [
  {
   "cell_type": "code",
   "execution_count": 22,
   "metadata": {},
   "outputs": [],
   "source": [
    "import time\n",
    "import schedule\n",
    "from napalm import get_network_driver\n",
    "from pprint import pprint"
   ]
  },
  {
   "cell_type": "code",
   "execution_count": 23,
   "metadata": {},
   "outputs": [],
   "source": [
    "def myJob():\n",
    "    junos_driver = get_network_driver('junos')\n",
    "    r1 = junos_driver(hostname='10.85.162.147',username='labroot',\n",
    "                         password='lab123')\n",
    "    r1.open()\n",
    "    cmd = ['show pfe statistics traffic | match hardware']\n",
    "    pprint(r1.cli(cmd))\n",
    "    r1.close()"
   ]
  },
  {
   "cell_type": "code",
   "execution_count": 39,
   "metadata": {},
   "outputs": [
    {
     "name": "stdout",
     "output_type": "stream",
     "text": [
      "None\n"
     ]
    },
    {
     "data": {
      "text/plain": [
       "Every 3 minutes do myJob() (last run: [never], next run: 2019-12-30 20:29:18)"
      ]
     },
     "execution_count": 39,
     "metadata": {},
     "output_type": "execute_result"
    }
   ],
   "source": [
    "schedule.every(3).minutes.do(myJob)"
   ]
  },
  {
   "cell_type": "code",
   "execution_count": 49,
   "metadata": {},
   "outputs": [
    {
     "name": "stdout",
     "output_type": "stream",
     "text": [
      "{'show pfe statistics traffic | match hardware': '    Hardware input '\n",
      "                                                 'drops                '\n",
      "                                                 ':         232594973813\\n'\n",
      "                                                 'Packet Forwarding Engine '\n",
      "                                                 'hardware discard statistics:'}\n",
      "test\n",
      "{'show pfe statistics traffic | match hardware': '    Hardware input '\n",
      "                                                 'drops                '\n",
      "                                                 ':         232594973813\\n'\n",
      "                                                 'Packet Forwarding Engine '\n",
      "                                                 'hardware discard statistics:'}\n",
      "{'show pfe statistics traffic | match hardware': '    Hardware input '\n",
      "                                                 'drops                '\n",
      "                                                 ':         232594973813\\n'\n",
      "                                                 'Packet Forwarding Engine '\n",
      "                                                 'hardware discard statistics:'}\n",
      "{'show pfe statistics traffic | match hardware': '    Hardware input '\n",
      "                                                 'drops                '\n",
      "                                                 ':         232594973813\\n'\n",
      "                                                 'Packet Forwarding Engine '\n",
      "                                                 'hardware discard statistics:'}\n",
      "{'show pfe statistics traffic | match hardware': '    Hardware input '\n",
      "                                                 'drops                '\n",
      "                                                 ':         232594973813\\n'\n",
      "                                                 'Packet Forwarding Engine '\n",
      "                                                 'hardware discard statistics:'}\n",
      "{'show pfe statistics traffic | match hardware': '    Hardware input '\n",
      "                                                 'drops                '\n",
      "                                                 ':         232594973813\\n'\n",
      "                                                 'Packet Forwarding Engine '\n",
      "                                                 'hardware discard statistics:'}\n",
      "test\n",
      "{'show pfe statistics traffic | match hardware': '    Hardware input '\n",
      "                                                 'drops                '\n",
      "                                                 ':         232594973813\\n'\n",
      "                                                 'Packet Forwarding Engine '\n",
      "                                                 'hardware discard statistics:'}\n",
      "{'show pfe statistics traffic | match hardware': '    Hardware input '\n",
      "                                                 'drops                '\n",
      "                                                 ':         232594973813\\n'\n",
      "                                                 'Packet Forwarding Engine '\n",
      "                                                 'hardware discard statistics:'}\n",
      "{'show pfe statistics traffic | match hardware': '    Hardware input '\n",
      "                                                 'drops                '\n",
      "                                                 ':         232594973813\\n'\n",
      "                                                 'Packet Forwarding Engine '\n",
      "                                                 'hardware discard statistics:'}\n",
      "test\n",
      "{'show pfe statistics traffic | match hardware': '    Hardware input '\n",
      "                                                 'drops                '\n",
      "                                                 ':         232594973813\\n'\n",
      "                                                 'Packet Forwarding Engine '\n",
      "                                                 'hardware discard statistics:'}\n",
      "{'show pfe statistics traffic | match hardware': '    Hardware input '\n",
      "                                                 'drops                '\n",
      "                                                 ':         232594973813\\n'\n",
      "                                                 'Packet Forwarding Engine '\n",
      "                                                 'hardware discard statistics:'}\n",
      "{'show pfe statistics traffic | match hardware': '    Hardware input '\n",
      "                                                 'drops                '\n",
      "                                                 ':         232594973813\\n'\n",
      "                                                 'Packet Forwarding Engine '\n",
      "                                                 'hardware discard statistics:'}\n",
      "test\n",
      "{'show pfe statistics traffic | match hardware': '    Hardware input '\n",
      "                                                 'drops                '\n",
      "                                                 ':         232594973813\\n'\n",
      "                                                 'Packet Forwarding Engine '\n",
      "                                                 'hardware discard statistics:'}\n",
      "{'show pfe statistics traffic | match hardware': '    Hardware input '\n",
      "                                                 'drops                '\n",
      "                                                 ':         232594973813\\n'\n",
      "                                                 'Packet Forwarding Engine '\n",
      "                                                 'hardware discard statistics:'}\n",
      "{'show pfe statistics traffic | match hardware': '    Hardware input '\n",
      "                                                 'drops                '\n",
      "                                                 ':         232594973813\\n'\n",
      "                                                 'Packet Forwarding Engine '\n",
      "                                                 'hardware discard statistics:'}\n",
      "test\n",
      "{'show pfe statistics traffic | match hardware': '    Hardware input '\n",
      "                                                 'drops                '\n",
      "                                                 ':         232594973813\\n'\n",
      "                                                 'Packet Forwarding Engine '\n",
      "                                                 'hardware discard statistics:'}\n",
      "{'show pfe statistics traffic | match hardware': '    Hardware input '\n",
      "                                                 'drops                '\n",
      "                                                 ':         232594973813\\n'\n",
      "                                                 'Packet Forwarding Engine '\n",
      "                                                 'hardware discard statistics:'}\n",
      "{'show pfe statistics traffic | match hardware': '    Hardware input '\n",
      "                                                 'drops                '\n",
      "                                                 ':         232594973813\\n'\n",
      "                                                 'Packet Forwarding Engine '\n",
      "                                                 'hardware discard statistics:'}\n",
      "test\n",
      "{'show pfe statistics traffic | match hardware': '    Hardware input '\n",
      "                                                 'drops                '\n",
      "                                                 ':         232594973813\\n'\n",
      "                                                 'Packet Forwarding Engine '\n",
      "                                                 'hardware discard statistics:'}\n",
      "{'show pfe statistics traffic | match hardware': '    Hardware input '\n",
      "                                                 'drops                '\n",
      "                                                 ':         232594973813\\n'\n",
      "                                                 'Packet Forwarding Engine '\n",
      "                                                 'hardware discard statistics:'}\n",
      "{'show pfe statistics traffic | match hardware': '    Hardware input '\n",
      "                                                 'drops                '\n",
      "                                                 ':         232594973813\\n'\n",
      "                                                 'Packet Forwarding Engine '\n",
      "                                                 'hardware discard statistics:'}\n",
      "test\n",
      "{'show pfe statistics traffic | match hardware': '    Hardware input '\n",
      "                                                 'drops                '\n",
      "                                                 ':         232594973813\\n'\n",
      "                                                 'Packet Forwarding Engine '\n",
      "                                                 'hardware discard statistics:'}\n",
      "{'show pfe statistics traffic | match hardware': '    Hardware input '\n",
      "                                                 'drops                '\n",
      "                                                 ':         232594973813\\n'\n",
      "                                                 'Packet Forwarding Engine '\n",
      "                                                 'hardware discard statistics:'}\n",
      "{'show pfe statistics traffic | match hardware': '    Hardware input '\n",
      "                                                 'drops                '\n",
      "                                                 ':         232594973813\\n'\n",
      "                                                 'Packet Forwarding Engine '\n",
      "                                                 'hardware discard statistics:'}\n",
      "test\n",
      "{'show pfe statistics traffic | match hardware': '    Hardware input '\n",
      "                                                 'drops                '\n",
      "                                                 ':         232594973813\\n'\n",
      "                                                 'Packet Forwarding Engine '\n",
      "                                                 'hardware discard statistics:'}\n",
      "{'show pfe statistics traffic | match hardware': '    Hardware input '\n",
      "                                                 'drops                '\n",
      "                                                 ':         232594973813\\n'\n",
      "                                                 'Packet Forwarding Engine '\n",
      "                                                 'hardware discard statistics:'}\n",
      "{'show pfe statistics traffic | match hardware': '    Hardware input '\n",
      "                                                 'drops                '\n",
      "                                                 ':         232594973813\\n'\n",
      "                                                 'Packet Forwarding Engine '\n",
      "                                                 'hardware discard statistics:'}\n",
      "test\n",
      "{'show pfe statistics traffic | match hardware': '    Hardware input '\n",
      "                                                 'drops                '\n",
      "                                                 ':         232594973813\\n'\n",
      "                                                 'Packet Forwarding Engine '\n",
      "                                                 'hardware discard statistics:'}\n",
      "{'show pfe statistics traffic | match hardware': '    Hardware input '\n",
      "                                                 'drops                '\n",
      "                                                 ':         232594973813\\n'\n",
      "                                                 'Packet Forwarding Engine '\n",
      "                                                 'hardware discard statistics:'}\n",
      "{'show pfe statistics traffic | match hardware': '    Hardware input '\n",
      "                                                 'drops                '\n",
      "                                                 ':         232594973813\\n'\n",
      "                                                 'Packet Forwarding Engine '\n",
      "                                                 'hardware discard statistics:'}\n",
      "test\n"
     ]
    },
    {
     "ename": "KeyboardInterrupt",
     "evalue": "",
     "output_type": "error",
     "traceback": [
      "\u001b[0;31m---------------------------------------------------------------------------\u001b[0m",
      "\u001b[0;31mKeyboardInterrupt\u001b[0m                         Traceback (most recent call last)",
      "\u001b[0;32m<ipython-input-49-03a31d7b4a91>\u001b[0m in \u001b[0;36m<module>\u001b[0;34m\u001b[0m\n\u001b[1;32m      2\u001b[0m \u001b[0;32mwhile\u001b[0m \u001b[0;32mTrue\u001b[0m\u001b[0;34m:\u001b[0m\u001b[0;34m\u001b[0m\u001b[0;34m\u001b[0m\u001b[0m\n\u001b[1;32m      3\u001b[0m     \u001b[0mschedule\u001b[0m\u001b[0;34m.\u001b[0m\u001b[0mrun_pending\u001b[0m\u001b[0;34m(\u001b[0m\u001b[0;34m)\u001b[0m\u001b[0;34m\u001b[0m\u001b[0;34m\u001b[0m\u001b[0m\n\u001b[0;32m----> 4\u001b[0;31m     \u001b[0mtime\u001b[0m\u001b[0;34m.\u001b[0m\u001b[0msleep\u001b[0m\u001b[0;34m(\u001b[0m\u001b[0;36m1\u001b[0m\u001b[0;34m)\u001b[0m\u001b[0;34m\u001b[0m\u001b[0;34m\u001b[0m\u001b[0m\n\u001b[0m\u001b[1;32m      5\u001b[0m \u001b[0;34m\u001b[0m\u001b[0m\n\u001b[1;32m      6\u001b[0m \u001b[0;34m\u001b[0m\u001b[0m\n",
      "\u001b[0;31mKeyboardInterrupt\u001b[0m: "
     ]
    }
   ],
   "source": [
    "i = 0\n",
    "while True:\n",
    "    schedule.run_pending()\n",
    "    time.sleep(1)\n",
    "    \n",
    "    "
   ]
  },
  {
   "cell_type": "code",
   "execution_count": null,
   "metadata": {},
   "outputs": [],
   "source": [
    "print(schedule.CancelJob())"
   ]
  },
  {
   "cell_type": "code",
   "execution_count": null,
   "metadata": {},
   "outputs": [],
   "source": []
  }
 ],
 "metadata": {
  "kernelspec": {
   "display_name": "Python 3",
   "language": "python",
   "name": "python3"
  },
  "language_info": {
   "codemirror_mode": {
    "name": "ipython",
    "version": 3
   },
   "file_extension": ".py",
   "mimetype": "text/x-python",
   "name": "python",
   "nbconvert_exporter": "python",
   "pygments_lexer": "ipython3",
   "version": "3.8.1"
  }
 },
 "nbformat": 4,
 "nbformat_minor": 4
}
