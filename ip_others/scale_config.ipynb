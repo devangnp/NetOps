{
 "cells": [
  {
   "cell_type": "markdown",
   "metadata": {},
   "source": [
    "[LSP Scale config](#LSP-config)\n",
    "\n",
    "[IFL IFD config](#IFL-scale)\n",
    "\n",
    "[Loopback config](#Loopback-interface-config)\n",
    "\n",
    "[BGP Scale config](#BGP-config)"
   ]
  },
  {
   "cell_type": "markdown",
   "metadata": {},
   "source": [
    "---\n",
    "title: \"JUNOS scale config\"\n",
    "last_modified_at: 2016-12-16T00:00:02-05:00\n",
    "categories:\n",
    "  - Blog\n",
    "tags:\n",
    "  - JUNOS\n",
    "---"
   ]
  },
  {
   "cell_type": "code",
   "execution_count": 4,
   "metadata": {},
   "outputs": [],
   "source": [
    "from netaddr import *\n",
    "from jinja2 import Template"
   ]
  },
  {
   "cell_type": "code",
   "execution_count": 49,
   "metadata": {},
   "outputs": [],
   "source": [
    "class JunosTest:\n",
    "    def __init__(self):\n",
    "        self.howmany = int(input('How many iterations:'))\n",
    "        print(self.howmany)\n",
    "        \n",
    "        \n",
    "    def myloop(self,hname_template):\n",
    "        \n",
    "        # variable to decide when to pick next IP range \n",
    "        i = 1 \n",
    "        # Variable to generate given scale config \n",
    "        j = 1 \n",
    "        ip = IPNetwork('192.168.1.0/24')\n",
    "        while (self.howmany+1) > j:\n",
    "            for ips in ip.iter_hosts():\n",
    "                print (hname_template.render(hostname = ips, hostname2 = i, lid = j))\n",
    "                i += 1\n",
    "                if i == 254:\n",
    "                    ip = ip.next()\n",
    "                    print(i)\n",
    "                    i = 0\n",
    "                j += 1\n",
    "                if j == self.howmany+1:\n",
    "                    break\n",
    "                \n",
    "    def LspConfig(self):\n",
    "        #cmd = \"set protocols mpls label-switched-path LSP-{} to {{ipadd}} ldp-tunneling\"\n",
    "        hname_template = Template(\"set protocols mpls label-switched-path LSP-{{lid}} to {{hostname}} ldp-tunneling\")\n",
    "        self.myloop(hname_template)\n",
    "    \n",
    "    def IflScale(self):\n",
    "        print(\"set interfaces xe-4/1/0 flexible-vlan-tagging encapsulation flexible-ethernet-services \")\n",
    "        hname_template = Template(\"set interfaces xe-4/1/0 uni {{lid}} vlan-id {{lid}} family inet address {{hostname}}/24\")\n",
    "        self.myloop(hname_template)\n",
    "        \n",
    "    def LoopBack(self):\n",
    "        cmd = \"set interfaces lo0 unit {} family inet address 192.168.1.{}/32\"\n",
    "        hname_template = Template(\"set interfaces lo0 unit {{lid}} family inet address 192.168.1.{{hostname}}/32\")\n",
    "        self.myloop(hname_template)\n",
    "        \n",
    "    def BgpConfig(self):\n",
    "        cmd = \"set protocols bgp group ibpg neighbor 192.168.1.{}\"\n",
    "        hname_template = Template(\"set protocols bgp group ibpg neighbor {{hostname}}\")\n",
    "        self.myloop(hname_template)"
   ]
  },
  {
   "cell_type": "code",
   "execution_count": 46,
   "metadata": {},
   "outputs": [
    {
     "name": "stdin",
     "output_type": "stream",
     "text": [
      "How many iterations: 3\n"
     ]
    },
    {
     "name": "stdout",
     "output_type": "stream",
     "text": [
      "3\n"
     ]
    }
   ],
   "source": [
    "config = JunosTest()"
   ]
  },
  {
   "cell_type": "markdown",
   "metadata": {},
   "source": [
    "# LSP config"
   ]
  },
  {
   "cell_type": "code",
   "execution_count": 47,
   "metadata": {},
   "outputs": [
    {
     "name": "stdout",
     "output_type": "stream",
     "text": [
      "set protocols mpls label-switched-path LSP-1 to 192.168.1.1 ldp-tunneling\n",
      "set protocols mpls label-switched-path LSP-2 to 192.168.1.2 ldp-tunneling\n",
      "set protocols mpls label-switched-path LSP-3 to 192.168.1.3 ldp-tunneling\n"
     ]
    }
   ],
   "source": [
    "config.LspConfig()"
   ]
  },
  {
   "cell_type": "markdown",
   "metadata": {},
   "source": [
    "# IFL scale"
   ]
  },
  {
   "cell_type": "code",
   "execution_count": 48,
   "metadata": {},
   "outputs": [
    {
     "name": "stdout",
     "output_type": "stream",
     "text": [
      "set interfaces xe-4/1/0 flexible-vlan-tagging encapsulation flexible-ethernet-services \n",
      "set interfaces xe-4/1/0 uni 1 vlan-id 1 family inet address 192.168.1.1/24\n",
      "set interfaces xe-4/1/0 uni 2 vlan-id 2 family inet address 192.168.1.2/24\n",
      "set interfaces xe-4/1/0 uni 3 vlan-id 3 family inet address 192.168.1.3/24\n"
     ]
    }
   ],
   "source": [
    "config.IflScale()"
   ]
  },
  {
   "cell_type": "markdown",
   "metadata": {},
   "source": [
    "# Loopback interface config"
   ]
  },
  {
   "cell_type": "code",
   "execution_count": 34,
   "metadata": {},
   "outputs": [
    {
     "name": "stdout",
     "output_type": "stream",
     "text": [
      "set interfaces lo0 unit 1 family inet address 192.168.1.192.168.1.1/32\n",
      "set interfaces lo0 unit 2 family inet address 192.168.1.192.168.1.2/32\n",
      "set interfaces lo0 unit 3 family inet address 192.168.1.192.168.1.3/32\n"
     ]
    }
   ],
   "source": [
    "config.LoopBack()"
   ]
  },
  {
   "cell_type": "markdown",
   "metadata": {},
   "source": [
    "# BGP config\n",
    "<a id = \"BGP config\"></a>"
   ]
  },
  {
   "cell_type": "code",
   "execution_count": 35,
   "metadata": {},
   "outputs": [
    {
     "name": "stdout",
     "output_type": "stream",
     "text": [
      "set protocols bgp group ibpg neighbor 192.168.1.1\n",
      "set protocols bgp group ibpg neighbor 192.168.1.2\n",
      "set protocols bgp group ibpg neighbor 192.168.1.3\n"
     ]
    }
   ],
   "source": [
    "config.BgpConfig()"
   ]
  }
 ],
 "metadata": {
  "kernelspec": {
   "display_name": "Python 3",
   "language": "python",
   "name": "python3"
  },
  "language_info": {
   "codemirror_mode": {
    "name": "ipython",
    "version": 3
   },
   "file_extension": ".py",
   "mimetype": "text/x-python",
   "name": "python",
   "nbconvert_exporter": "python",
   "pygments_lexer": "ipython3",
   "version": "3.8.1"
  }
 },
 "nbformat": 4,
 "nbformat_minor": 4
}
