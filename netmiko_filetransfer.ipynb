{
 "cells": [
  {
   "cell_type": "code",
   "execution_count": 1,
   "metadata": {},
   "outputs": [],
   "source": [
    "from netmiko import juniper\n",
    "from netmiko import ConnectHandler, file_transfer"
   ]
  },
  {
   "cell_type": "code",
   "execution_count": 2,
   "metadata": {},
   "outputs": [],
   "source": [
    "lisbon = { \n",
    "    'device_type': 'juniper_junos',\n",
    "    'host': '10.85.162.147',\n",
    "    'username': 'labroot',\n",
    "    'password': 'lab123',\n",
    "}\n",
    "\n",
    "source_file = 'transfer.txt'\n",
    "dest_file = 'transfer_now_onbox.txt'\n",
    "direction = 'put'\n",
    "file_system='/var/tmp/'"
   ]
  },
  {
   "cell_type": "code",
   "execution_count": 3,
   "metadata": {},
   "outputs": [],
   "source": [
    "ssh_conn = ConnectHandler(**lisbon)"
   ]
  },
  {
   "cell_type": "code",
   "execution_count": 4,
   "metadata": {},
   "outputs": [
    {
     "name": "stdout",
     "output_type": "stream",
     "text": [
      "<netmiko.juniper.juniper.JuniperSSH object at 0x7f5f02ef6bb0>\n"
     ]
    },
    {
     "data": {
      "text/plain": [
       "True"
      ]
     },
     "execution_count": 4,
     "metadata": {},
     "output_type": "execute_result"
    }
   ],
   "source": [
    "print(ssh_conn)\n",
    "ssh_conn.is_alive()"
   ]
  },
  {
   "cell_type": "code",
   "execution_count": 5,
   "metadata": {},
   "outputs": [],
   "source": [
    "xfer_status = file_transfer(ssh_conn, source_file, dest_file, direction = direction, file_system = file_system)"
   ]
  },
  {
   "cell_type": "code",
   "execution_count": 6,
   "metadata": {},
   "outputs": [
    {
     "name": "stdout",
     "output_type": "stream",
     "text": [
      "{'file_exists': True, 'file_transferred': False, 'file_verified': True}\n"
     ]
    }
   ],
   "source": [
    "print(xfer_status)"
   ]
  },
  {
   "cell_type": "code",
   "execution_count": 8,
   "metadata": {},
   "outputs": [
    {
     "name": "stdout",
     "output_type": "stream",
     "text": [
      "\n",
      "Interface        State       Administrative groups (x: extended)\n",
      "fxp0.0           Dn         <none>\n",
      "ae1.0            Dn         <none>\n",
      "vt-1/0/10.2097152 Up        <none>\n",
      "ge-1/3/8.1       Dn         <none>\n",
      "ge-1/3/8.7       Dn         <none>\n",
      "ge-1/3/8.8       Dn         <none>\n",
      "xe-0/1/0.0       Up         <none>\n",
      "xe-0/3/3.0       Dn         <none>\n",
      "ae2.1000         Up         <none>\n",
      "ae2.0            Up         <none>\n",
      "ae2.112          Dn         <none>\n",
      "\n"
     ]
    }
   ],
   "source": [
    "output = ssh_conn.send_command('show mpls interface')\n",
    "print(output)"
   ]
  }
 ],
 "metadata": {
  "kernelspec": {
   "display_name": "Python 3",
   "language": "python",
   "name": "python3"
  },
  "language_info": {
   "codemirror_mode": {
    "name": "ipython",
    "version": 3
   },
   "file_extension": ".py",
   "mimetype": "text/x-python",
   "name": "python",
   "nbconvert_exporter": "python",
   "pygments_lexer": "ipython3",
   "version": "3.8.1"
  }
 },
 "nbformat": 4,
 "nbformat_minor": 4
}
