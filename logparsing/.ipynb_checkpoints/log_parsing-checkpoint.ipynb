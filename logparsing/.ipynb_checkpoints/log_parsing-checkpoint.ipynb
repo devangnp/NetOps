{
 "cells": [
  {
   "cell_type": "markdown",
   "metadata": {},
   "source": [
    "# Log parsing - JUNOS messages log"
   ]
  },
  {
   "cell_type": "markdown",
   "metadata": {},
   "source": [
    "Devang Patel  \n",
    "NetOps  \n",
    "Creating various functions to extract various log parameters from log string and based on matching event calling the appropriate remediation module. Remediation module will call the device connect module to capture appropriate data for further analysis."
   ]
  },
  {
   "cell_type": "code",
   "execution_count": 210,
   "metadata": {},
   "outputs": [],
   "source": [
    "'''\n",
    "Importing required modules\n",
    "'''\n",
    "import re\n",
    "from jnpr.junos import Device"
   ]
  },
  {
   "cell_type": "code",
   "execution_count": 211,
   "metadata": {},
   "outputs": [],
   "source": [
    "'''\n",
    "Extracting required data from JUNOS log messages\n",
    "'''\n",
    "def logParsing(log):\n",
    "    '''\n",
    "    Regex to break down junos log in chunk\n",
    "    '''\n",
    "    datetimestamp_log = r'(\\w+\\s+\\d+)'\n",
    "    timestamp_log = r'(\\d+:\\d+:\\d+.\\d+)'\n",
    "    devicename_log = r'(\\S+)'\n",
    "    process_log = r'(\\S+):'\n",
    "    error_code_log = r'(\\S+):'\n",
    "    error_message_log = r'(.*)'\n",
    "    separator_log = r'\\s+'\n",
    "\n",
    "    '''\n",
    "    Complete log line from regex view\n",
    "    '''\n",
    "    syslog_re = (\n",
    "        datetimestamp_log + separator_log + \n",
    "        timestamp_log + separator_log +\n",
    "        devicename_log + separator_log + \n",
    "        process_log + separator_log +\n",
    "        error_code_log + separator_log + \n",
    "        error_message_log)\n",
    "    \n",
    "    '''\n",
    "    Parsing log line with regex\n",
    "    '''\n",
    "    matched = re.match(syslog_re,log)\n",
    "    \n",
    "    '''\n",
    "    For debug only\n",
    "    for i in range(1,(len(matched.groups())+1)):\n",
    "        print(matched.group(i))\n",
    "    '''\n",
    "    '''\n",
    "    Unpacking the matched group to individual variables to use further\n",
    "    '''\n",
    "    datestamp, timestamp, devicename, processname, errorcode, errormsg = (matched.groups())\n",
    "    \n",
    "    return(datestamp, timestamp, devicename, processname, errorcode, errormsg)"
   ]
  },
  {
   "cell_type": "code",
   "execution_count": 264,
   "metadata": {},
   "outputs": [],
   "source": [
    "'''\n",
    "Using PYEZ module to connect to lab router\n",
    "'''\n",
    "def junosDeviceConnect(cmd):\n",
    "    hostname = '10.85.162.147'\n",
    "    username = 'labroot'\n",
    "    \n",
    "    dev = Device(host=hostname, user=username, passwd='lab123')\n",
    "\n",
    "    try:\n",
    "        dev.open()\n",
    "        print('Connected')\n",
    "        \n",
    "    except Exception as err:\n",
    "        print(err)\n",
    "\n",
    "    output = (dev.cli(cmd, warning=False))\n",
    "    print(dev)\n",
    "    dev.close()\n",
    "\n",
    "    return(output)\n",
    "    "
   ]
  },
  {
   "cell_type": "code",
   "execution_count": 260,
   "metadata": {},
   "outputs": [],
   "source": [
    "def debugLinkDown(errormsg):\n",
    "    down_intf = re.match(r'.+([x|g|e][e|t]-\\d+\\/\\d+\\/\\d+)', errormsg)\n",
    "    print('Please check the relatd circuit and router for inft:', down_intf.group(1))\n",
    "    if down_intf:\n",
    "        print(True, 'call remediation script or module by passing intf info')\n",
    "        \n",
    "    cmd = 'show interfaces terse'\n",
    "    output = junosDeviceConnect(cmd)\n",
    "    for line in (output.split('\\n')):\n",
    "        if down_intf.group(1) in line:\n",
    "            print(line)\n",
    "        #call remediation script or module "
   ]
  },
  {
   "cell_type": "code",
   "execution_count": 261,
   "metadata": {},
   "outputs": [],
   "source": [
    "def debugSchedSlip(errormsg):\n",
    "    userslip = re.match(r'.+(user:\\s+\\d+ sec \\d+ usec)', errormsg).group(1)\n",
    "    systemslip = re.match(r'.+(system:\\s+\\d+ sec, \\d+ usec)', errormsg).group(1)\n",
    "    print('Check the CPU resources, who is hungry?', errormsg)\n",
    "    print('User processes utilization:', userslip)\n",
    "    print('Kernel utilization:', systemslip)\n",
    "    \n",
    "    '''\n",
    "    Checking health of RPD on box\n",
    "    '''\n",
    "    cmd = 'show system processes extensive | match rpd'\n",
    "    output = junosDeviceConnect(cmd)\n",
    "    for line in (output.split('\\n')):\n",
    "        if 'rpd' in line:\n",
    "            print(line)"
   ]
  },
  {
   "cell_type": "code",
   "execution_count": 262,
   "metadata": {},
   "outputs": [],
   "source": [
    "log = \"Dec 24 11:47:37.842  r1-re0 mib2d[6113]: SNMP_TRAP_LINK_DOWN: ifIndex 634, ifAdminStatus down(2), ifOperStatus down(2), ifName xe-0/1/0\"\n",
    "#log = \"Dec 10 12:00:00.001  r1-re0 rpd[1234]: JTASK_SCHED_SLIP: 10 sec scheduler slip, user: 0 sec 0 usec, system: 0 sec, 123123123 usec\"\n",
    "datestamp, timestamp, devicename, processname, errorcode, errormsg = logParsing(log)\n"
   ]
  },
  {
   "cell_type": "code",
   "execution_count": 263,
   "metadata": {},
   "outputs": [
    {
     "name": "stdout",
     "output_type": "stream",
     "text": [
      "##########################################################################################\n",
      "Calling LINK DOWN debugg routine\n",
      "Please check the relatd circuit and router for inft: xe-0/1/0\n",
      "True call remediation script or module by passing intf info\n",
      "Connected\n",
      "Device(10.85.162.147)\n",
      "i m in if of dev\n",
      "xe-0/1/0                up    up\n",
      "xe-0/1/0.0              up    up   inet     1.1.13.1/24     \n"
     ]
    }
   ],
   "source": [
    "'''\n",
    "Reporting of Intf down event and extracting the interface details\n",
    "'''\n",
    "if 'SNMP_TRAP_LINK_DOWN' in errorcode:\n",
    "    print('#'*90)\n",
    "    print('Calling LINK DOWN debugg routine')\n",
    "    debugLinkDown(errormsg)\n",
    "\n",
    "if 'JTASK_SCHED_SLIP' in errorcode:\n",
    "    print('#'*90)\n",
    "    print('Calling Resource utilization debugg routine')\n",
    "    debugSchedSlip(errormsg)"
   ]
  }
 ],
 "metadata": {
  "kernelspec": {
   "display_name": "Python 3",
   "language": "python",
   "name": "python3"
  },
  "language_info": {
   "codemirror_mode": {
    "name": "ipython",
    "version": 3
   },
   "file_extension": ".py",
   "mimetype": "text/x-python",
   "name": "python",
   "nbconvert_exporter": "python",
   "pygments_lexer": "ipython3",
   "version": "3.5.2"
  }
 },
 "nbformat": 4,
 "nbformat_minor": 4
}
