{
 "cells": [
  {
   "cell_type": "code",
   "execution_count": 1,
   "metadata": {},
   "outputs": [],
   "source": [
    "#Required imports\n",
    "from nornir import InitNornir\n",
    "from nornir.plugins.tasks.networking import netmiko_send_command,\n",
    "from nornir.plugins.tasks.networking import napalm_get, napalm_cli\n",
    "from nornir.plugins.functions.text import print_result\n",
    "from pprint import pprint as pprint"
   ]
  },
  {
   "cell_type": "code",
   "execution_count": 3,
   "metadata": {},
   "outputs": [],
   "source": [
    "'''\n",
    "Create nornir object which will use the hosts.yaml and \n",
    "groups.yaml files to \n",
    "'''\n",
    "nr = InitNornir()"
   ]
  },
  {
   "cell_type": "code",
   "execution_count": 10,
   "metadata": {},
   "outputs": [
    {
     "name": "stdout",
     "output_type": "stream",
     "text": [
      "\u001b[1m\u001b[36mnetmiko_send_command************************************************************\u001b[0m\n",
      "\u001b[0m\u001b[1m\u001b[34m* r1 ** changed : False ********************************************************\u001b[0m\n",
      "\u001b[0m\u001b[1m\u001b[32mvvvv netmiko_send_command ** changed : False vvvvvvvvvvvvvvvvvvvvvvvvvvvvvvvvvvv INFO\u001b[0m\n",
      "\u001b[0m\n",
      "Address          Interface              State     ID               Pri  Dead\n",
      "2.2.12.1         ae2.0                  Full      192.168.1.2      128    36\n",
      "135.1.1.2        ae2.1000               Full      2.2.2.2          128    38\n",
      "1.1.13.2         xe-0/1/0.0             Full      192.168.1.3      128    33\n",
      "\u001b[0m\n",
      "\u001b[0m\u001b[1m\u001b[32m^^^^ END netmiko_send_command ^^^^^^^^^^^^^^^^^^^^^^^^^^^^^^^^^^^^^^^^^^^^^^^^^^\u001b[0m\n",
      "\u001b[0m"
     ]
    }
   ],
   "source": [
    "result = nr.run(\n",
    "    task=netmiko_send_command,\n",
    "    command_string=\"show ospf neighbor\",\n",
    ")\n",
    "\n",
    "print_result(result)      "
   ]
  }
 ],
 "metadata": {
  "kernelspec": {
   "display_name": "Python 3",
   "language": "python",
   "name": "python3"
  },
  "language_info": {
   "codemirror_mode": {
    "name": "ipython",
    "version": 3
   },
   "file_extension": ".py",
   "mimetype": "text/x-python",
   "name": "python",
   "nbconvert_exporter": "python",
   "pygments_lexer": "ipython3",
   "version": "3.8.1"
  }
 },
 "nbformat": 4,
 "nbformat_minor": 4
}
