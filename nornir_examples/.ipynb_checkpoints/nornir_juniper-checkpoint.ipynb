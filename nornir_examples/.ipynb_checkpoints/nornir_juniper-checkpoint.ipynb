{
 "cells": [
  {
   "cell_type": "markdown",
   "metadata": {},
   "source": [
    "NORNIR for JUNOS device  \n",
    "Devang patel  \n",
    "NetOps"
   ]
  },
  {
   "cell_type": "code",
   "execution_count": 72,
   "metadata": {},
   "outputs": [],
   "source": [
    "from nornir import InitNornir"
   ]
  },
  {
   "cell_type": "code",
   "execution_count": 73,
   "metadata": {},
   "outputs": [],
   "source": [
    "from nornir.plugins.tasks.networking import netmiko_send_command\n",
    "from nornir.plugins.tasks.networking import napalm_get, napalm_cli\n",
    "from nornir.plugins.functions.text import print_result"
   ]
  },
  {
   "cell_type": "code",
   "execution_count": 91,
   "metadata": {},
   "outputs": [],
   "source": [
    "nr = InitNornir()"
   ]
  },
  {
   "cell_type": "code",
   "execution_count": 75,
   "metadata": {},
   "outputs": [
    {
     "name": "stdout",
     "output_type": "stream",
     "text": [
      "\u001b[1m\u001b[36mnetmiko_send_command************************************************************\u001b[0m\n",
      "\u001b[0m\u001b[1m\u001b[34m* lisbon ** changed : False ****************************************************\u001b[0m\n",
      "\u001b[0m\u001b[1m\u001b[32mvvvv netmiko_send_command ** changed : False vvvvvvvvvvvvvvvvvvvvvvvvvvvvvvvvvvv INFO\u001b[0m\n",
      "\u001b[0m\n",
      "Groups: 4 Peers: 5 Down peers: 3\n",
      "Table          Tot Paths  Act Paths Suppressed    History Damp State    Pending\n",
      "inet.0               \n",
      "                       0          0          0          0          0          0\n",
      "bgp.l3vpn.0          \n",
      "                       2          2          0          0          0          0\n",
      "bgp.l2vpn.0          \n",
      "                       0          0          0          0          0          0\n",
      "bgp.evpn.0           \n",
      "                       0          0          0          0          0          0\n",
      "bgp.mvpn.0           \n",
      "                       0          0          0          0          0          0\n",
      "bgp.mdt.0            \n",
      "                       0          0          0          0          0          0\n",
      "inet6.0              \n",
      "                       0          0          0          0          0          0\n",
      "Peer                     AS      InPkt     OutPkt    OutQ   Flaps Last Up/Dwn State|#Active/Received/Accepted/Damped...\n",
      "1.1.11.2                200          0          0       0       0 1w3d 7:42:23 Idle  \n",
      "2.1.1.2                 200          0          0       0       0 1w3d 7:42:23 Idle  \n",
      "192.168.1.2             100     101242     101365       0       2  3d 4:21:13 Establ\n",
      "  inet.0: 0/0/0/0\n",
      "  bgp.l3vpn.0: 1/1/1/0\n",
      "  bgp.l2vpn.0: 0/0/0/0\n",
      "  bgp.evpn.0: 0/0/0/0\n",
      "  bgp.mvpn.0: 0/0/0/0\n",
      "  bgp.mdt.0: 0/0/0/0\n",
      "  mvpn.inet.0: 1/1/1/0\n",
      "192.168.200.1           100     102655     102223       0       1  3d 4:59:57 Establ\n",
      "  inet.0: 0/0/0/0\n",
      "  bgp.l3vpn.0: 1/1/1/0\n",
      "  bgp.l2vpn.0: 0/0/0/0\n",
      "  bgp.evpn.0: 0/0/0/0\n",
      "  bgp.mvpn.0: 0/0/0/0\n",
      "  bgp.mdt.0: 0/0/0/0\n",
      "  mvpn.inet.0: 1/1/1/0\n",
      "2001:1:1::1               1          0          0       0       0 1w3d 7:42:23 Idle  \n",
      "\u001b[0m\n",
      "\u001b[0m\u001b[1m\u001b[32m^^^^ END netmiko_send_command ^^^^^^^^^^^^^^^^^^^^^^^^^^^^^^^^^^^^^^^^^^^^^^^^^^\u001b[0m\n",
      "\u001b[0m"
     ]
    }
   ],
   "source": [
    "result = nr.run(\n",
    "    task=netmiko_send_command,\n",
    "    command_string=\"show bgp summary\"\n",
    ")\n",
    "\n",
    "print_result(result)      "
   ]
  },
  {
   "cell_type": "code",
   "execution_count": 85,
   "metadata": {},
   "outputs": [
    {
     "name": "stdout",
     "output_type": "stream",
     "text": [
      "\u001b[1m\u001b[36mnapalm_cli**********************************************************************\u001b[0m\n",
      "\u001b[0m\u001b[1m\u001b[34m* lisbon ** changed : False ****************************************************\u001b[0m\n",
      "\u001b[0m\u001b[1m\u001b[32mvvvv napalm_cli ** changed : False vvvvvvvvvvvvvvvvvvvvvvvvvvvvvvvvvvvvvvvvvvvvv INFO\u001b[0m\n",
      "\u001b[0m{\u001b[0m \u001b[0m'show system processes extensive | match mem'\u001b[0m: \u001b[0m'Mem: 109M Active, 3466M '\u001b[0m\n",
      "                                                 \u001b[0m'Inact, 906M Wired, 512M Buf, '\u001b[0m\n",
      "                                                 \u001b[0m'11G Free'\u001b[0m,\n",
      "  \u001b[0m'show system processes extensive | match rpd'\u001b[0m: \u001b[0m'96074 root      20    0  '\u001b[0m\n",
      "                                                 \u001b[0m'1152M   176M kqread  1   '\u001b[0m\n",
      "                                                 \u001b[0m'7:57   0.00% rpd{rpd}\\n'\u001b[0m\n",
      "                                                 \u001b[0m'96074 root      20    0  '\u001b[0m\n",
      "                                                 \u001b[0m'1152M   176M kqread  0   '\u001b[0m\n",
      "                                                 \u001b[0m'7:36   0.00% '\u001b[0m\n",
      "                                                 \u001b[0m'rpd{TraceThread}\\n'\u001b[0m\n",
      "                                                 \u001b[0m'96074 root      20    0  '\u001b[0m\n",
      "                                                 \u001b[0m'1152M   176M kqread  0   '\u001b[0m\n",
      "                                                 \u001b[0m'1:27   0.00% rpd{rsvp-io}\\n'\u001b[0m\n",
      "                                                 \u001b[0m'96074 root      20    0  '\u001b[0m\n",
      "                                                 \u001b[0m'1152M   176M kqread  1   '\u001b[0m\n",
      "                                                 \u001b[0m'1:11   0.00% '\u001b[0m\n",
      "                                                 \u001b[0m'rpd{bgpio-0-th}\\n'\u001b[0m\n",
      "                                                 \u001b[0m'96074 root      20    0  '\u001b[0m\n",
      "                                                 \u001b[0m'1152M   176M kqread  1   '\u001b[0m\n",
      "                                                 \u001b[0m'0:09   0.00% rpd{krtio-th}'\u001b[0m}\u001b[0m\n",
      "\u001b[0m\u001b[1m\u001b[32m^^^^ END napalm_cli ^^^^^^^^^^^^^^^^^^^^^^^^^^^^^^^^^^^^^^^^^^^^^^^^^^^^^^^^^^^^\u001b[0m\n",
      "\u001b[0m"
     ]
    }
   ],
   "source": [
    "result = nr.run(\n",
    "             napalm_cli,\n",
    "             commands=['show system processes extensive | match rpd', 'show system processes extensive | match mem'])\n",
    "\n",
    "print_result(result)\n"
   ]
  },
  {
   "cell_type": "code",
   "execution_count": 86,
   "metadata": {},
   "outputs": [
    {
     "data": {
      "text/plain": [
       "nornir.core.task.AggregatedResult"
      ]
     },
     "execution_count": 86,
     "metadata": {},
     "output_type": "execute_result"
    }
   ],
   "source": [
    "type(result)"
   ]
  },
  {
   "cell_type": "code",
   "execution_count": 99,
   "metadata": {},
   "outputs": [
    {
     "name": "stdout",
     "output_type": "stream",
     "text": [
      "\u001b[1m\u001b[36mnapalm_get**********************************************************************\u001b[0m\n",
      "\u001b[0m\u001b[1m\u001b[34m* lisbon ** changed : False ****************************************************\u001b[0m\n",
      "\u001b[0m\u001b[1m\u001b[32mvvvv napalm_get ** changed : False vvvvvvvvvvvvvvvvvvvvvvvvvvvvvvvvvvvvvvvvvvvvv INFO\u001b[0m\n",
      "\u001b[0m{\u001b[0m \u001b[0m'get_facts'\u001b[0m: \u001b[0m{\u001b[0m \u001b[0m'fqdn'\u001b[0m: \u001b[0m'lisbon-re0.ultralab.juniper.net'\u001b[0m,\n",
      "                 \u001b[0m'hostname'\u001b[0m: \u001b[0m'lisbon-re0'\u001b[0m,\n",
      "                 \u001b[0m'interface_list'\u001b[0m: \u001b[0m[\u001b[0m \u001b[0m\u001b[0m'lc-0/0/0'\u001b[0m,\n",
      "                                     \u001b[0m'pfe-0/0/0'\u001b[0m,\n",
      "                                     \u001b[0m'pfh-0/0/0'\u001b[0m,\n",
      "                                     \u001b[0m'xe-0/0/0'\u001b[0m,\n",
      "                                     \u001b[0m'xe-0/0/1'\u001b[0m,\n",
      "                                     \u001b[0m'xe-0/0/2'\u001b[0m,\n",
      "                                     \u001b[0m'xe-0/0/3'\u001b[0m,\n",
      "                                     \u001b[0m'lc-0/1/0'\u001b[0m,\n",
      "                                     \u001b[0m'pfe-0/1/0'\u001b[0m,\n",
      "                                     \u001b[0m'xe-0/1/0'\u001b[0m,\n",
      "                                     \u001b[0m'xe-0/1/1'\u001b[0m,\n",
      "                                     \u001b[0m'xe-0/1/2'\u001b[0m,\n",
      "                                     \u001b[0m'xe-0/1/3'\u001b[0m,\n",
      "                                     \u001b[0m'lc-0/2/0'\u001b[0m,\n",
      "                                     \u001b[0m'pfe-0/2/0'\u001b[0m,\n",
      "                                     \u001b[0m'xe-0/2/0'\u001b[0m,\n",
      "                                     \u001b[0m'xe-0/2/1'\u001b[0m,\n",
      "                                     \u001b[0m'xe-0/2/2'\u001b[0m,\n",
      "                                     \u001b[0m'xe-0/2/3'\u001b[0m,\n",
      "                                     \u001b[0m'lc-0/3/0'\u001b[0m,\n",
      "                                     \u001b[0m'pfe-0/3/0'\u001b[0m,\n",
      "                                     \u001b[0m'xe-0/3/0'\u001b[0m,\n",
      "                                     \u001b[0m'xe-0/3/1'\u001b[0m,\n",
      "                                     \u001b[0m'xe-0/3/2'\u001b[0m,\n",
      "                                     \u001b[0m'xe-0/3/3'\u001b[0m,\n",
      "                                     \u001b[0m'ge-1/0/0'\u001b[0m,\n",
      "                                     \u001b[0m'lc-1/0/0'\u001b[0m,\n",
      "                                     \u001b[0m'pfe-1/0/0'\u001b[0m,\n",
      "                                     \u001b[0m'pfh-1/0/0'\u001b[0m,\n",
      "                                     \u001b[0m'ge-1/0/1'\u001b[0m,\n",
      "                                     \u001b[0m'ge-1/0/2'\u001b[0m,\n",
      "                                     \u001b[0m'ge-1/0/3'\u001b[0m,\n",
      "                                     \u001b[0m'ge-1/0/4'\u001b[0m,\n",
      "                                     \u001b[0m'ge-1/0/5'\u001b[0m,\n",
      "                                     \u001b[0m'ge-1/0/6'\u001b[0m,\n",
      "                                     \u001b[0m'ge-1/0/7'\u001b[0m,\n",
      "                                     \u001b[0m'ge-1/0/8'\u001b[0m,\n",
      "                                     \u001b[0m'ge-1/0/9'\u001b[0m,\n",
      "                                     \u001b[0m'gr-1/0/10'\u001b[0m,\n",
      "                                     \u001b[0m'ip-1/0/10'\u001b[0m,\n",
      "                                     \u001b[0m'lt-1/0/10'\u001b[0m,\n",
      "                                     \u001b[0m'mt-1/0/10'\u001b[0m,\n",
      "                                     \u001b[0m'pd-1/0/10'\u001b[0m,\n",
      "                                     \u001b[0m'pe-1/0/10'\u001b[0m,\n",
      "                                     \u001b[0m'ud-1/0/10'\u001b[0m,\n",
      "                                     \u001b[0m'ut-1/0/10'\u001b[0m,\n",
      "                                     \u001b[0m'vt-1/0/10'\u001b[0m,\n",
      "                                     \u001b[0m'ge-1/1/0'\u001b[0m,\n",
      "                                     \u001b[0m'ge-1/1/1'\u001b[0m,\n",
      "                                     \u001b[0m'ge-1/1/2'\u001b[0m,\n",
      "                                     \u001b[0m'ge-1/1/3'\u001b[0m,\n",
      "                                     \u001b[0m'ge-1/1/4'\u001b[0m,\n",
      "                                     \u001b[0m'ge-1/1/5'\u001b[0m,\n",
      "                                     \u001b[0m'ge-1/1/6'\u001b[0m,\n",
      "                                     \u001b[0m'ge-1/1/7'\u001b[0m,\n",
      "                                     \u001b[0m'ge-1/1/8'\u001b[0m,\n",
      "                                     \u001b[0m'ge-1/1/9'\u001b[0m,\n",
      "                                     \u001b[0m'ge-1/2/0'\u001b[0m,\n",
      "                                     \u001b[0m'lc-1/2/0'\u001b[0m,\n",
      "                                     \u001b[0m'pfe-1/2/0'\u001b[0m,\n",
      "                                     \u001b[0m'ge-1/2/1'\u001b[0m,\n",
      "                                     \u001b[0m'ge-1/2/2'\u001b[0m,\n",
      "                                     \u001b[0m'ge-1/2/3'\u001b[0m,\n",
      "                                     \u001b[0m'ge-1/2/4'\u001b[0m,\n",
      "                                     \u001b[0m'ge-1/2/5'\u001b[0m,\n",
      "                                     \u001b[0m'ge-1/2/6'\u001b[0m,\n",
      "                                     \u001b[0m'ge-1/2/7'\u001b[0m,\n",
      "                                     \u001b[0m'ge-1/2/8'\u001b[0m,\n",
      "                                     \u001b[0m'ge-1/2/9'\u001b[0m,\n",
      "                                     \u001b[0m'ge-1/3/0'\u001b[0m,\n",
      "                                     \u001b[0m'ge-1/3/1'\u001b[0m,\n",
      "                                     \u001b[0m'ge-1/3/2'\u001b[0m,\n",
      "                                     \u001b[0m'ge-1/3/3'\u001b[0m,\n",
      "                                     \u001b[0m'ge-1/3/4'\u001b[0m,\n",
      "                                     \u001b[0m'ge-1/3/5'\u001b[0m,\n",
      "                                     \u001b[0m'ge-1/3/6'\u001b[0m,\n",
      "                                     \u001b[0m'ge-1/3/7'\u001b[0m,\n",
      "                                     \u001b[0m'ge-1/3/8'\u001b[0m,\n",
      "                                     \u001b[0m'ge-1/3/9'\u001b[0m,\n",
      "                                     \u001b[0m'lc-4/0/0'\u001b[0m,\n",
      "                                     \u001b[0m'pfe-4/0/0'\u001b[0m,\n",
      "                                     \u001b[0m'pfh-4/0/0'\u001b[0m,\n",
      "                                     \u001b[0m'xe-4/0/0'\u001b[0m,\n",
      "                                     \u001b[0m'xe-4/0/1'\u001b[0m,\n",
      "                                     \u001b[0m'et-4/1/0'\u001b[0m,\n",
      "                                     \u001b[0m'lc-4/2/0'\u001b[0m,\n",
      "                                     \u001b[0m'pfe-4/2/0'\u001b[0m,\n",
      "                                     \u001b[0m'xe-4/2/0'\u001b[0m,\n",
      "                                     \u001b[0m'xe-4/2/1'\u001b[0m,\n",
      "                                     \u001b[0m'et-4/3/0'\u001b[0m,\n",
      "                                     \u001b[0m'lc-5/0/0'\u001b[0m,\n",
      "                                     \u001b[0m'pfe-5/0/0'\u001b[0m,\n",
      "                                     \u001b[0m'pfh-5/0/0'\u001b[0m,\n",
      "                                     \u001b[0m'xe-5/0/0'\u001b[0m,\n",
      "                                     \u001b[0m'xe-5/0/1'\u001b[0m,\n",
      "                                     \u001b[0m'xe-5/0/2'\u001b[0m,\n",
      "                                     \u001b[0m'xe-5/0/3'\u001b[0m,\n",
      "                                     \u001b[0m'xe-5/0/4'\u001b[0m,\n",
      "                                     \u001b[0m'xe-5/0/5'\u001b[0m,\n",
      "                                     \u001b[0m'xe-5/0/6'\u001b[0m,\n",
      "                                     \u001b[0m'xe-5/0/7'\u001b[0m,\n",
      "                                     \u001b[0m'xe-5/0/8'\u001b[0m,\n",
      "                                     \u001b[0m'xe-5/0/9'\u001b[0m,\n",
      "                                     \u001b[0m'xe-5/0/10'\u001b[0m,\n",
      "                                     \u001b[0m'xe-5/0/11'\u001b[0m,\n",
      "                                     \u001b[0m'xe-5/0/12'\u001b[0m,\n",
      "                                     \u001b[0m'xe-5/0/13'\u001b[0m,\n",
      "                                     \u001b[0m'xe-5/0/14'\u001b[0m,\n",
      "                                     \u001b[0m'xe-5/0/15'\u001b[0m,\n",
      "                                     \u001b[0m'xe-5/0/16'\u001b[0m,\n",
      "                                     \u001b[0m'xe-5/0/17'\u001b[0m,\n",
      "                                     \u001b[0m'xe-5/0/18'\u001b[0m,\n",
      "                                     \u001b[0m'xe-5/0/19'\u001b[0m,\n",
      "                                     \u001b[0m'lc-5/1/0'\u001b[0m,\n",
      "                                     \u001b[0m'pfe-5/1/0'\u001b[0m,\n",
      "                                     \u001b[0m'xe-5/1/0'\u001b[0m,\n",
      "                                     \u001b[0m'xe-5/1/1'\u001b[0m,\n",
      "                                     \u001b[0m'xe-5/1/2'\u001b[0m,\n",
      "                                     \u001b[0m'xe-5/1/3'\u001b[0m,\n",
      "                                     \u001b[0m'xe-5/1/4'\u001b[0m,\n",
      "                                     \u001b[0m'xe-5/1/5'\u001b[0m,\n",
      "                                     \u001b[0m'xe-5/1/6'\u001b[0m,\n",
      "                                     \u001b[0m'xe-5/1/7'\u001b[0m,\n",
      "                                     \u001b[0m'xe-5/1/8'\u001b[0m,\n",
      "                                     \u001b[0m'xe-5/1/9'\u001b[0m,\n",
      "                                     \u001b[0m'xe-5/1/10'\u001b[0m,\n",
      "                                     \u001b[0m'xe-5/1/11'\u001b[0m,\n",
      "                                     \u001b[0m'xe-5/1/12'\u001b[0m,\n",
      "                                     \u001b[0m'xe-5/1/13'\u001b[0m,\n",
      "                                     \u001b[0m'xe-5/1/14'\u001b[0m,\n",
      "                                     \u001b[0m'xe-5/1/15'\u001b[0m,\n",
      "                                     \u001b[0m'xe-5/1/16'\u001b[0m,\n",
      "                                     \u001b[0m'xe-5/1/17'\u001b[0m,\n",
      "                                     \u001b[0m'xe-5/1/18'\u001b[0m,\n",
      "                                     \u001b[0m'xe-5/1/19'\u001b[0m,\n",
      "                                     \u001b[0m'ae1'\u001b[0m,\n",
      "                                     \u001b[0m'ae2'\u001b[0m,\n",
      "                                     \u001b[0m'cbp0'\u001b[0m,\n",
      "                                     \u001b[0m'demux0'\u001b[0m,\n",
      "                                     \u001b[0m'dsc'\u001b[0m,\n",
      "                                     \u001b[0m'em0'\u001b[0m,\n",
      "                                     \u001b[0m'em1'\u001b[0m,\n",
      "                                     \u001b[0m'esi'\u001b[0m,\n",
      "                                     \u001b[0m'fti0'\u001b[0m,\n",
      "                                     \u001b[0m'fti1'\u001b[0m,\n",
      "                                     \u001b[0m'fti2'\u001b[0m,\n",
      "                                     \u001b[0m'fti3'\u001b[0m,\n",
      "                                     \u001b[0m'fti4'\u001b[0m,\n",
      "                                     \u001b[0m'fti5'\u001b[0m,\n",
      "                                     \u001b[0m'fti6'\u001b[0m,\n",
      "                                     \u001b[0m'fti7'\u001b[0m,\n",
      "                                     \u001b[0m'fxp0'\u001b[0m,\n",
      "                                     \u001b[0m'gre'\u001b[0m,\n",
      "                                     \u001b[0m'ipip'\u001b[0m,\n",
      "                                     \u001b[0m'irb'\u001b[0m,\n",
      "                                     \u001b[0m'jsrv'\u001b[0m,\n",
      "                                     \u001b[0m'lo0'\u001b[0m,\n",
      "                                     \u001b[0m'lsi'\u001b[0m,\n",
      "                                     \u001b[0m'mtun'\u001b[0m,\n",
      "                                     \u001b[0m'pimd'\u001b[0m,\n",
      "                                     \u001b[0m'pime'\u001b[0m,\n",
      "                                     \u001b[0m'pip0'\u001b[0m,\n",
      "                                     \u001b[0m'pp0'\u001b[0m,\n",
      "                                     \u001b[0m'rbeb'\u001b[0m,\n",
      "                                     \u001b[0m'tap'\u001b[0m,\n",
      "                                     \u001b[0m'vtep'\u001b[0m]\u001b[0m,\n",
      "                 \u001b[0m'model'\u001b[0m: \u001b[0m'MX480'\u001b[0m,\n",
      "                 \u001b[0m'os_version'\u001b[0m: \u001b[0m'18.3R1.9'\u001b[0m,\n",
      "                 \u001b[0m'serial_number'\u001b[0m: \u001b[0m'JN121314AAFB'\u001b[0m,\n",
      "                 \u001b[0m'uptime'\u001b[0m: \u001b[0m3385987\u001b[0m,\n",
      "                 \u001b[0m'vendor'\u001b[0m: \u001b[0m'Juniper'\u001b[0m}\u001b[0m}\u001b[0m\n",
      "\u001b[0m\u001b[1m\u001b[32m^^^^ END napalm_get ^^^^^^^^^^^^^^^^^^^^^^^^^^^^^^^^^^^^^^^^^^^^^^^^^^^^^^^^^^^^\u001b[0m\n",
      "\u001b[0m"
     ]
    }
   ],
   "source": [
    "cmd = \"show version\"\n",
    "result = nr.run(\n",
    "             napalm_get,\n",
    "             getters = ['get_facts'])\n",
    "\n",
    "print_result(result)"
   ]
  },
  {
   "cell_type": "code",
   "execution_count": 109,
   "metadata": {},
   "outputs": [],
   "source": [
    "nextr = result['lisbon']"
   ]
  },
  {
   "cell_type": "code",
   "execution_count": 112,
   "metadata": {},
   "outputs": [
    {
     "name": "stdout",
     "output_type": "stream",
     "text": [
      "{'get_facts': {'vendor': 'Juniper', 'model': 'MX480', 'serial_number': 'JN121314AAFB', 'os_version': '18.3R1.9', 'hostname': 'lisbon-re0', 'fqdn': 'lisbon-re0.ultralab.juniper.net', 'uptime': 3385987, 'interface_list': ['lc-0/0/0', 'pfe-0/0/0', 'pfh-0/0/0', 'xe-0/0/0', 'xe-0/0/1', 'xe-0/0/2', 'xe-0/0/3', 'lc-0/1/0', 'pfe-0/1/0', 'xe-0/1/0', 'xe-0/1/1', 'xe-0/1/2', 'xe-0/1/3', 'lc-0/2/0', 'pfe-0/2/0', 'xe-0/2/0', 'xe-0/2/1', 'xe-0/2/2', 'xe-0/2/3', 'lc-0/3/0', 'pfe-0/3/0', 'xe-0/3/0', 'xe-0/3/1', 'xe-0/3/2', 'xe-0/3/3', 'ge-1/0/0', 'lc-1/0/0', 'pfe-1/0/0', 'pfh-1/0/0', 'ge-1/0/1', 'ge-1/0/2', 'ge-1/0/3', 'ge-1/0/4', 'ge-1/0/5', 'ge-1/0/6', 'ge-1/0/7', 'ge-1/0/8', 'ge-1/0/9', 'gr-1/0/10', 'ip-1/0/10', 'lt-1/0/10', 'mt-1/0/10', 'pd-1/0/10', 'pe-1/0/10', 'ud-1/0/10', 'ut-1/0/10', 'vt-1/0/10', 'ge-1/1/0', 'ge-1/1/1', 'ge-1/1/2', 'ge-1/1/3', 'ge-1/1/4', 'ge-1/1/5', 'ge-1/1/6', 'ge-1/1/7', 'ge-1/1/8', 'ge-1/1/9', 'ge-1/2/0', 'lc-1/2/0', 'pfe-1/2/0', 'ge-1/2/1', 'ge-1/2/2', 'ge-1/2/3', 'ge-1/2/4', 'ge-1/2/5', 'ge-1/2/6', 'ge-1/2/7', 'ge-1/2/8', 'ge-1/2/9', 'ge-1/3/0', 'ge-1/3/1', 'ge-1/3/2', 'ge-1/3/3', 'ge-1/3/4', 'ge-1/3/5', 'ge-1/3/6', 'ge-1/3/7', 'ge-1/3/8', 'ge-1/3/9', 'lc-4/0/0', 'pfe-4/0/0', 'pfh-4/0/0', 'xe-4/0/0', 'xe-4/0/1', 'et-4/1/0', 'lc-4/2/0', 'pfe-4/2/0', 'xe-4/2/0', 'xe-4/2/1', 'et-4/3/0', 'lc-5/0/0', 'pfe-5/0/0', 'pfh-5/0/0', 'xe-5/0/0', 'xe-5/0/1', 'xe-5/0/2', 'xe-5/0/3', 'xe-5/0/4', 'xe-5/0/5', 'xe-5/0/6', 'xe-5/0/7', 'xe-5/0/8', 'xe-5/0/9', 'xe-5/0/10', 'xe-5/0/11', 'xe-5/0/12', 'xe-5/0/13', 'xe-5/0/14', 'xe-5/0/15', 'xe-5/0/16', 'xe-5/0/17', 'xe-5/0/18', 'xe-5/0/19', 'lc-5/1/0', 'pfe-5/1/0', 'xe-5/1/0', 'xe-5/1/1', 'xe-5/1/2', 'xe-5/1/3', 'xe-5/1/4', 'xe-5/1/5', 'xe-5/1/6', 'xe-5/1/7', 'xe-5/1/8', 'xe-5/1/9', 'xe-5/1/10', 'xe-5/1/11', 'xe-5/1/12', 'xe-5/1/13', 'xe-5/1/14', 'xe-5/1/15', 'xe-5/1/16', 'xe-5/1/17', 'xe-5/1/18', 'xe-5/1/19', 'ae1', 'ae2', 'cbp0', 'demux0', 'dsc', 'em0', 'em1', 'esi', 'fti0', 'fti1', 'fti2', 'fti3', 'fti4', 'fti5', 'fti6', 'fti7', 'fxp0', 'gre', 'ipip', 'irb', 'jsrv', 'lo0', 'lsi', 'mtun', 'pimd', 'pime', 'pip0', 'pp0', 'rbeb', 'tap', 'vtep']}}\u001b[0m\n",
      "\u001b[0m"
     ]
    }
   ],
   "source": [
    "for item in nextr:\n",
    "    print(item)"
   ]
  }
 ],
 "metadata": {
  "kernelspec": {
   "display_name": "Python 3",
   "language": "python",
   "name": "python3"
  },
  "language_info": {
   "codemirror_mode": {
    "name": "ipython",
    "version": 3
   },
   "file_extension": ".py",
   "mimetype": "text/x-python",
   "name": "python",
   "nbconvert_exporter": "python",
   "pygments_lexer": "ipython3",
   "version": "3.8.1"
  }
 },
 "nbformat": 4,
 "nbformat_minor": 4
}
