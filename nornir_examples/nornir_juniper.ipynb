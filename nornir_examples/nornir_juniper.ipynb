{
 "cells": [
  {
   "cell_type": "markdown",
   "metadata": {},
   "source": [
    "NORNIR for JUNOS device  \n",
    "Devang patel  \n",
    "NetOps"
   ]
  },
  {
   "cell_type": "code",
   "execution_count": 183,
   "metadata": {},
   "outputs": [],
   "source": [
    "#Required imports\n",
    "from nornir import InitNornir\n",
    "from nornir.plugins.tasks.networking import netmiko_send_command\n",
    "from nornir.plugins.tasks.networking import napalm_get, napalm_cli\n",
    "from nornir.plugins.functions.text import print_result\n",
    "from pprint import pprint as pprint"
   ]
  },
  {
   "cell_type": "code",
   "execution_count": 184,
   "metadata": {},
   "outputs": [],
   "source": [
    "'''\n",
    "Create nornir object which will use the hosts.yaml and \n",
    "groups.yaml files to \n",
    "'''\n",
    "nr = InitNornir()"
   ]
  },
  {
   "cell_type": "code",
   "execution_count": 188,
   "metadata": {},
   "outputs": [
    {
     "name": "stdout",
     "output_type": "stream",
     "text": [
      "{'r1': Host: r1}\u001b[0m\n",
      "\u001b[0m{'mylab': Group: mylab}\u001b[0m\n",
      "\u001b[0m"
     ]
    }
   ],
   "source": [
    "print(nr.inventory.hosts)\n",
    "print(nr.inventory.groups)"
   ]
  },
  {
   "cell_type": "code",
   "execution_count": 189,
   "metadata": {},
   "outputs": [
    {
     "name": "stdout",
     "output_type": "stream",
     "text": [
      "\u001b[1m\u001b[36mnetmiko_send_command************************************************************\u001b[0m\n",
      "\u001b[0m\u001b[1m\u001b[34m* r1 ** changed : False ********************************************************\u001b[0m\n",
      "\u001b[0m\u001b[1m\u001b[32mvvvv netmiko_send_command ** changed : False vvvvvvvvvvvvvvvvvvvvvvvvvvvvvvvvvvv INFO\u001b[0m\n",
      "\u001b[0m\n",
      "Groups: 4 Peers: 5 Down peers: 3\n",
      "Table          Tot Paths  Act Paths Suppressed    History Damp State    Pending\n",
      "inet.0               \n",
      "                       0          0          0          0          0          0\n",
      "bgp.l3vpn.0          \n",
      "                       2          2          0          0          0          0\n",
      "bgp.l2vpn.0          \n",
      "                       0          0          0          0          0          0\n",
      "bgp.evpn.0           \n",
      "                       0          0          0          0          0          0\n",
      "bgp.mvpn.0           \n",
      "                       0          0          0          0          0          0\n",
      "bgp.mdt.0            \n",
      "                       0          0          0          0          0          0\n",
      "inet6.0              \n",
      "                       0          0          0          0          0          0\n",
      "Peer                     AS      InPkt     OutPkt    OutQ   Flaps Last Up/Dwn State|#Active/Received/Accepted/Damped...\n",
      "1.1.11.2                200          0          0       0       0 1w3d 8:25:11 Idle  \n",
      "2.1.1.2                 200          0          0       0       0 1w3d 8:25:11 Idle  \n",
      "192.168.1.2             100     102189     102311       0       2  3d 5:04:01 Establ\n",
      "  inet.0: 0/0/0/0\n",
      "  bgp.l3vpn.0: 1/1/1/0\n",
      "  bgp.l2vpn.0: 0/0/0/0\n",
      "  bgp.evpn.0: 0/0/0/0\n",
      "  bgp.mvpn.0: 0/0/0/0\n",
      "  bgp.mdt.0: 0/0/0/0\n",
      "  mvpn.inet.0: 1/1/1/0\n",
      "192.168.200.1           100     103606     103169       0       1  3d 5:42:45 Establ\n",
      "  inet.0: 0/0/0/0\n",
      "  bgp.l3vpn.0: 1/1/1/0\n",
      "  bgp.l2vpn.0: 0/0/0/0\n",
      "  bgp.evpn.0: 0/0/0/0\n",
      "  bgp.mvpn.0: 0/0/0/0\n",
      "  bgp.mdt.0: 0/0/0/0\n",
      "  mvpn.inet.0: 1/1/1/0\n",
      "2001:1:1::1               1          0          0       0       0 1w3d 8:25:11 Idle  \n",
      "\u001b[0m\n",
      "\u001b[0m\u001b[1m\u001b[32m^^^^ END netmiko_send_command ^^^^^^^^^^^^^^^^^^^^^^^^^^^^^^^^^^^^^^^^^^^^^^^^^^\u001b[0m\n",
      "\u001b[0m"
     ]
    }
   ],
   "source": [
    "result = nr.run(\n",
    "    task=netmiko_send_command,\n",
    "    command_string=\"show bgp summary\"\n",
    ")\n",
    "\n",
    "print_result(result)      "
   ]
  },
  {
   "cell_type": "code",
   "execution_count": 191,
   "metadata": {},
   "outputs": [
    {
     "name": "stdout",
     "output_type": "stream",
     "text": [
      "\u001b[1m\u001b[36mnapalm_cli**********************************************************************\u001b[0m\n",
      "\u001b[0m\u001b[1m\u001b[34m* r1 ** changed : False ********************************************************\u001b[0m\n",
      "\u001b[0m\u001b[1m\u001b[32mvvvv napalm_cli ** changed : False vvvvvvvvvvvvvvvvvvvvvvvvvvvvvvvvvvvvvvvvvvvvv INFO\u001b[0m\n",
      "\u001b[0m{\u001b[0m \u001b[0m'show system processes extensive | match mem'\u001b[0m: \u001b[0m'Mem: 146M Active, 3462M '\u001b[0m\n",
      "                                                 \u001b[0m'Inact, 927M Wired, 530M Buf, '\u001b[0m\n",
      "                                                 \u001b[0m'11G Free'\u001b[0m,\n",
      "  \u001b[0m'show system processes extensive | match rpd'\u001b[0m: \u001b[0m'96074 root      20    0  '\u001b[0m\n",
      "                                                 \u001b[0m'1152M   176M kqread  1   '\u001b[0m\n",
      "                                                 \u001b[0m'7:58   0.00% rpd{rpd}\\n'\u001b[0m\n",
      "                                                 \u001b[0m'96074 root      20    0  '\u001b[0m\n",
      "                                                 \u001b[0m'1152M   176M kqread  0   '\u001b[0m\n",
      "                                                 \u001b[0m'7:37   0.00% '\u001b[0m\n",
      "                                                 \u001b[0m'rpd{TraceThread}\\n'\u001b[0m\n",
      "                                                 \u001b[0m'96074 root      20    0  '\u001b[0m\n",
      "                                                 \u001b[0m'1152M   176M kqread  1   '\u001b[0m\n",
      "                                                 \u001b[0m'1:27   0.00% rpd{rsvp-io}\\n'\u001b[0m\n",
      "                                                 \u001b[0m'96074 root      20    0  '\u001b[0m\n",
      "                                                 \u001b[0m'1152M   176M kqread  1   '\u001b[0m\n",
      "                                                 \u001b[0m'1:11   0.00% '\u001b[0m\n",
      "                                                 \u001b[0m'rpd{bgpio-0-th}\\n'\u001b[0m\n",
      "                                                 \u001b[0m'96074 root      20    0  '\u001b[0m\n",
      "                                                 \u001b[0m'1152M   176M kqread  0   '\u001b[0m\n",
      "                                                 \u001b[0m'0:09   0.00% rpd{krtio-th}'\u001b[0m}\u001b[0m\n",
      "\u001b[0m\u001b[1m\u001b[32m^^^^ END napalm_cli ^^^^^^^^^^^^^^^^^^^^^^^^^^^^^^^^^^^^^^^^^^^^^^^^^^^^^^^^^^^^\u001b[0m\n",
      "\u001b[0m"
     ]
    }
   ],
   "source": [
    "result = nr.run(\n",
    "             napalm_cli,\n",
    "             commands=['show system processes extensive | match rpd', 'show system processes extensive | match mem'])\n",
    "\n",
    "print_result(result)\n"
   ]
  },
  {
   "cell_type": "code",
   "execution_count": 198,
   "metadata": {},
   "outputs": [
    {
     "name": "stdout",
     "output_type": "stream",
     "text": [
      "<class 'nornir.core.task.AggregatedResult'>\u001b[0m\n",
      "\u001b[0m"
     ]
    }
   ],
   "source": [
    "print(type(result))"
   ]
  },
  {
   "cell_type": "code",
   "execution_count": 193,
   "metadata": {},
   "outputs": [
    {
     "name": "stdout",
     "output_type": "stream",
     "text": [
      "\u001b[1m\u001b[36mnapalm_get**********************************************************************\u001b[0m\n",
      "\u001b[0m\u001b[1m\u001b[34m* r1 ** changed : False ********************************************************\u001b[0m\n",
      "\u001b[0m\u001b[1m\u001b[32mvvvv napalm_get ** changed : False vvvvvvvvvvvvvvvvvvvvvvvvvvvvvvvvvvvvvvvvvvvvv INFO\u001b[0m\n",
      "\u001b[0m{\u001b[0m \u001b[0m'bgp_neighbors'\u001b[0m: \u001b[0m{\u001b[0m \u001b[0m'global'\u001b[0m: \u001b[0m{\u001b[0m \u001b[0m'peers'\u001b[0m: \u001b[0m{\u001b[0m \u001b[0m'1.1.11.2'\u001b[0m: \u001b[0m{\u001b[0m \u001b[0m'address_family'\u001b[0m: \u001b[0m{\u001b[0m \u001b[0m'ipv4'\u001b[0m: \u001b[0m{\u001b[0m \u001b[0m'accepted_prefixes'\u001b[0m: \u001b[0m-1\u001b[0m,\n",
      "                                                                                        \u001b[0m'received_prefixes'\u001b[0m: \u001b[0m-1\u001b[0m,\n",
      "                                                                                        \u001b[0m'sent_prefixes'\u001b[0m: \u001b[0m-1\u001b[0m}\u001b[0m,\n",
      "                                                                              \u001b[0m'ipv6'\u001b[0m: \u001b[0m{\u001b[0m \u001b[0m'accepted_prefixes'\u001b[0m: \u001b[0m-1\u001b[0m,\n",
      "                                                                                        \u001b[0m'received_prefixes'\u001b[0m: \u001b[0m-1\u001b[0m,\n",
      "                                                                                        \u001b[0m'sent_prefixes'\u001b[0m: \u001b[0m-1\u001b[0m}\u001b[0m}\u001b[0m,\n",
      "                                                          \u001b[0m'description'\u001b[0m: \u001b[0m''\u001b[0m,\n",
      "                                                          \u001b[0m'is_enabled'\u001b[0m: \u001b[0mTrue\u001b[0m,\n",
      "                                                          \u001b[0m'is_up'\u001b[0m: \u001b[0mFalse\u001b[0m,\n",
      "                                                          \u001b[0m'local_as'\u001b[0m: \u001b[0m100\u001b[0m,\n",
      "                                                          \u001b[0m'remote_as'\u001b[0m: \u001b[0m200\u001b[0m,\n",
      "                                                          \u001b[0m'remote_id'\u001b[0m: \u001b[0m''\u001b[0m,\n",
      "                                                          \u001b[0m'uptime'\u001b[0m: \u001b[0m894325\u001b[0m}\u001b[0m,\n",
      "                                            \u001b[0m'192.168.1.2'\u001b[0m: \u001b[0m{\u001b[0m \u001b[0m'address_family'\u001b[0m: \u001b[0m{\u001b[0m \u001b[0m'ipv4'\u001b[0m: \u001b[0m{\u001b[0m \u001b[0m'accepted_prefixes'\u001b[0m: \u001b[0m0\u001b[0m,\n",
      "                                                                                           \u001b[0m'received_prefixes'\u001b[0m: \u001b[0m0\u001b[0m,\n",
      "                                                                                           \u001b[0m'sent_prefixes'\u001b[0m: \u001b[0m1\u001b[0m}\u001b[0m,\n",
      "                                                                                 \u001b[0m'ipv6'\u001b[0m: \u001b[0m{\u001b[0m \u001b[0m'accepted_prefixes'\u001b[0m: \u001b[0m-1\u001b[0m,\n",
      "                                                                                           \u001b[0m'received_prefixes'\u001b[0m: \u001b[0m-1\u001b[0m,\n",
      "                                                                                           \u001b[0m'sent_prefixes'\u001b[0m: \u001b[0m-1\u001b[0m}\u001b[0m}\u001b[0m,\n",
      "                                                             \u001b[0m'description'\u001b[0m: \u001b[0m''\u001b[0m,\n",
      "                                                             \u001b[0m'is_enabled'\u001b[0m: \u001b[0mTrue\u001b[0m,\n",
      "                                                             \u001b[0m'is_up'\u001b[0m: \u001b[0mTrue\u001b[0m,\n",
      "                                                             \u001b[0m'local_as'\u001b[0m: \u001b[0m100\u001b[0m,\n",
      "                                                             \u001b[0m'remote_as'\u001b[0m: \u001b[0m100\u001b[0m,\n",
      "                                                             \u001b[0m'remote_id'\u001b[0m: \u001b[0m'192.168.1.2'\u001b[0m,\n",
      "                                                             \u001b[0m'uptime'\u001b[0m: \u001b[0m277455\u001b[0m}\u001b[0m,\n",
      "                                            \u001b[0m'192.168.200.1'\u001b[0m: \u001b[0m{\u001b[0m \u001b[0m'address_family'\u001b[0m: \u001b[0m{\u001b[0m \u001b[0m'ipv4'\u001b[0m: \u001b[0m{\u001b[0m \u001b[0m'accepted_prefixes'\u001b[0m: \u001b[0m0\u001b[0m,\n",
      "                                                                                             \u001b[0m'received_prefixes'\u001b[0m: \u001b[0m0\u001b[0m,\n",
      "                                                                                             \u001b[0m'sent_prefixes'\u001b[0m: \u001b[0m1\u001b[0m}\u001b[0m,\n",
      "                                                                                   \u001b[0m'ipv6'\u001b[0m: \u001b[0m{\u001b[0m \u001b[0m'accepted_prefixes'\u001b[0m: \u001b[0m-1\u001b[0m,\n",
      "                                                                                             \u001b[0m'received_prefixes'\u001b[0m: \u001b[0m-1\u001b[0m,\n",
      "                                                                                             \u001b[0m'sent_prefixes'\u001b[0m: \u001b[0m-1\u001b[0m}\u001b[0m}\u001b[0m,\n",
      "                                                               \u001b[0m'description'\u001b[0m: \u001b[0m''\u001b[0m,\n",
      "                                                               \u001b[0m'is_enabled'\u001b[0m: \u001b[0mTrue\u001b[0m,\n",
      "                                                               \u001b[0m'is_up'\u001b[0m: \u001b[0mTrue\u001b[0m,\n",
      "                                                               \u001b[0m'local_as'\u001b[0m: \u001b[0m100\u001b[0m,\n",
      "                                                               \u001b[0m'remote_as'\u001b[0m: \u001b[0m100\u001b[0m,\n",
      "                                                               \u001b[0m'remote_id'\u001b[0m: \u001b[0m'192.168.200.1'\u001b[0m,\n",
      "                                                               \u001b[0m'uptime'\u001b[0m: \u001b[0m279779\u001b[0m}\u001b[0m,\n",
      "                                            \u001b[0m'2001:1:1::1'\u001b[0m: \u001b[0m{\u001b[0m \u001b[0m'address_family'\u001b[0m: \u001b[0m{\u001b[0m \u001b[0m'ipv4'\u001b[0m: \u001b[0m{\u001b[0m \u001b[0m'accepted_prefixes'\u001b[0m: \u001b[0m-1\u001b[0m,\n",
      "                                                                                           \u001b[0m'received_prefixes'\u001b[0m: \u001b[0m-1\u001b[0m,\n",
      "                                                                                           \u001b[0m'sent_prefixes'\u001b[0m: \u001b[0m-1\u001b[0m}\u001b[0m,\n",
      "                                                                                 \u001b[0m'ipv6'\u001b[0m: \u001b[0m{\u001b[0m \u001b[0m'accepted_prefixes'\u001b[0m: \u001b[0m-1\u001b[0m,\n",
      "                                                                                           \u001b[0m'received_prefixes'\u001b[0m: \u001b[0m-1\u001b[0m,\n",
      "                                                                                           \u001b[0m'sent_prefixes'\u001b[0m: \u001b[0m-1\u001b[0m}\u001b[0m}\u001b[0m,\n",
      "                                                             \u001b[0m'description'\u001b[0m: \u001b[0m''\u001b[0m,\n",
      "                                                             \u001b[0m'is_enabled'\u001b[0m: \u001b[0mTrue\u001b[0m,\n",
      "                                                             \u001b[0m'is_up'\u001b[0m: \u001b[0mFalse\u001b[0m,\n",
      "                                                             \u001b[0m'local_as'\u001b[0m: \u001b[0m100\u001b[0m,\n",
      "                                                             \u001b[0m'remote_as'\u001b[0m: \u001b[0m1\u001b[0m,\n",
      "                                                             \u001b[0m'remote_id'\u001b[0m: \u001b[0m''\u001b[0m,\n",
      "                                                             \u001b[0m'uptime'\u001b[0m: \u001b[0m894325\u001b[0m}\u001b[0m}\u001b[0m,\n",
      "                                 \u001b[0m'router_id'\u001b[0m: \u001b[0m''\u001b[0m}\u001b[0m,\n",
      "                     \u001b[0m'mvpn'\u001b[0m: \u001b[0m{\u001b[0m \u001b[0m'peers'\u001b[0m: \u001b[0m{\u001b[0m \u001b[0m'2.1.1.2'\u001b[0m: \u001b[0m{\u001b[0m \u001b[0m'address_family'\u001b[0m: \u001b[0m{\u001b[0m \u001b[0m'ipv4'\u001b[0m: \u001b[0m{\u001b[0m \u001b[0m'accepted_prefixes'\u001b[0m: \u001b[0m-1\u001b[0m,\n",
      "                                                                                     \u001b[0m'received_prefixes'\u001b[0m: \u001b[0m-1\u001b[0m,\n",
      "                                                                                     \u001b[0m'sent_prefixes'\u001b[0m: \u001b[0m-1\u001b[0m}\u001b[0m,\n",
      "                                                                           \u001b[0m'ipv6'\u001b[0m: \u001b[0m{\u001b[0m \u001b[0m'accepted_prefixes'\u001b[0m: \u001b[0m-1\u001b[0m,\n",
      "                                                                                     \u001b[0m'received_prefixes'\u001b[0m: \u001b[0m-1\u001b[0m,\n",
      "                                                                                     \u001b[0m'sent_prefixes'\u001b[0m: \u001b[0m-1\u001b[0m}\u001b[0m}\u001b[0m,\n",
      "                                                       \u001b[0m'description'\u001b[0m: \u001b[0m''\u001b[0m,\n",
      "                                                       \u001b[0m'is_enabled'\u001b[0m: \u001b[0mTrue\u001b[0m,\n",
      "                                                       \u001b[0m'is_up'\u001b[0m: \u001b[0mFalse\u001b[0m,\n",
      "                                                       \u001b[0m'local_as'\u001b[0m: \u001b[0m100\u001b[0m,\n",
      "                                                       \u001b[0m'remote_as'\u001b[0m: \u001b[0m200\u001b[0m,\n",
      "                                                       \u001b[0m'remote_id'\u001b[0m: \u001b[0m''\u001b[0m,\n",
      "                                                       \u001b[0m'uptime'\u001b[0m: \u001b[0m894325\u001b[0m}\u001b[0m}\u001b[0m,\n",
      "                               \u001b[0m'router_id'\u001b[0m: \u001b[0m''\u001b[0m}\u001b[0m}\u001b[0m}\u001b[0m\n",
      "\u001b[0m\u001b[1m\u001b[32m^^^^ END napalm_get ^^^^^^^^^^^^^^^^^^^^^^^^^^^^^^^^^^^^^^^^^^^^^^^^^^^^^^^^^^^^\u001b[0m\n",
      "\u001b[0m"
     ]
    }
   ],
   "source": [
    "cmd = \"show version\"\n",
    "result = nr.run(\n",
    "             napalm_get,\n",
    "             getters = ['bgp_neighbors'])\n",
    "\n",
    "print_result(result)"
   ]
  },
  {
   "cell_type": "code",
   "execution_count": 194,
   "metadata": {},
   "outputs": [
    {
     "name": "stdout",
     "output_type": "stream",
     "text": [
      "AggregatedResult (napalm_get): {'r1': MultiResult: [Result: \"napalm_get\"]}\u001b[0m\n",
      "\u001b[0m"
     ]
    }
   ],
   "source": [
    "print(result)"
   ]
  },
  {
   "cell_type": "code",
   "execution_count": 197,
   "metadata": {},
   "outputs": [
    {
     "name": "stdout",
     "output_type": "stream",
     "text": [
      "<class 'dict'>\u001b[0m\n",
      "\u001b[0mdict_keys(['global', 'mvpn'])\u001b[0m\n",
      "\u001b[0m{\u001b[0m'peers'\u001b[0m: \u001b[0m{\u001b[0m'2.1.1.2'\u001b[0m: \u001b[0m{\u001b[0m'address_family'\u001b[0m: \u001b[0m{\u001b[0m'ipv4'\u001b[0m: \u001b[0m{\u001b[0m'accepted_prefixes'\u001b[0m: \u001b[0m-1\u001b[0m,\n",
      "                                                   \u001b[0m'received_prefixes'\u001b[0m: \u001b[0m-1\u001b[0m,\n",
      "                                                   \u001b[0m'sent_prefixes'\u001b[0m: \u001b[0m-1\u001b[0m}\u001b[0m,\n",
      "                                          \u001b[0m'ipv6'\u001b[0m: \u001b[0m{\u001b[0m'accepted_prefixes'\u001b[0m: \u001b[0m-1\u001b[0m,\n",
      "                                                   \u001b[0m'received_prefixes'\u001b[0m: \u001b[0m-1\u001b[0m,\n",
      "                                                   \u001b[0m'sent_prefixes'\u001b[0m: \u001b[0m-1\u001b[0m}\u001b[0m}\u001b[0m,\n",
      "                       \u001b[0m'description'\u001b[0m: \u001b[0m''\u001b[0m,\n",
      "                       \u001b[0m'is_enabled'\u001b[0m: \u001b[0mTrue\u001b[0m,\n",
      "                       \u001b[0m'is_up'\u001b[0m: \u001b[0mFalse\u001b[0m,\n",
      "                       \u001b[0m'local_as'\u001b[0m: \u001b[0m100\u001b[0m,\n",
      "                       \u001b[0m'remote_as'\u001b[0m: \u001b[0m200\u001b[0m,\n",
      "                       \u001b[0m'remote_id'\u001b[0m: \u001b[0m''\u001b[0m,\n",
      "                       \u001b[0m'uptime'\u001b[0m: \u001b[0m894325\u001b[0m}\u001b[0m}\u001b[0m,\n",
      " \u001b[0m'router_id'\u001b[0m: \u001b[0m''\u001b[0m}\u001b[0m\n",
      "\u001b[0m"
     ]
    }
   ],
   "source": [
    "print(type((result['r1'][0].result)))\n",
    "print((((result['r1'][0].result)['bgp_neighbors'])).keys())\n",
    "pprint((((result['r1'][0].result)['bgp_neighbors']))['mvpn'])"
   ]
  }
 ],
 "metadata": {
  "kernelspec": {
   "display_name": "Python 3",
   "language": "python",
   "name": "python3"
  },
  "language_info": {
   "codemirror_mode": {
    "name": "ipython",
    "version": 3
   },
   "file_extension": ".py",
   "mimetype": "text/x-python",
   "name": "python",
   "nbconvert_exporter": "python",
   "pygments_lexer": "ipython3",
   "version": "3.8.1"
  }
 },
 "nbformat": 4,
 "nbformat_minor": 4
}
